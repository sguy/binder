{
 "cells": [
  {
   "cell_type": "markdown",
   "metadata": {},
   "source": [
    "# Python Adventure: Part 2 - Making Decisions and Repeating Yourself! 🧠🔁\n",
    "\n",
    "Welcome back, coding explorer! In our last adventure, you learned the basics of Jupyter Notebooks and took your first steps with Python. You're already on your way to becoming a coding superstar! ⭐\n",
    "\n",
    "Today, we're going to learn how to make our programs smarter by teaching them to make decisions and how to make them do things over and over again without us having to type everything out a million times. Let's get started!"
   ]
  },
  {
   "cell_type": "markdown",
   "metadata": {},
   "source": [
    "## 1. Quick Recap! (What We Learned Last Time)\n",
    "\n",
    "Remember these cool things? Let's do a super-fast review."
   ]
  },
  {
   "cell_type": "markdown",
   "metadata": {},
   "source": [
    "### Comments (`#`)\n",
    "Comments are notes for humans in your code. Python ignores them. They start with a `#`."
   ]
  },
  {
   "cell_type": "code",
   "execution_count": null,
   "metadata": {},
   "outputs": [],
   "source": [
    "# This is a comment! It helps explain what the code is doing.\n",
    "age = 14 # Another comment, this time next to some code."
   ]
  },
  {
   "cell_type": "markdown",
   "metadata": {},
   "source": [
    "### Variables (Labeled Boxes 📦)\n",
    "Variables store information. You give them a name and put a value inside."
   ]
  },
  {
   "cell_type": "code",
   "execution_count": null,
   "metadata": {},
   "outputs": [],
   "source": [
    "playerName = \"CodeWizard\"\n",
    "highScore = 1000\n",
    "isGameOn = True"
   ]
  },
  {
   "cell_type": "markdown",
   "metadata": {},
   "source": [
    "### `print()` and f-strings (Talking to the Screen 🗣️)\n",
    "`print()` shows stuff on the screen. F-strings (like `f\"Hello {name}!\"`) are a cool way to mix text and variables."
   ]
  },
  {
   "cell_type": "code",
   "execution_count": null,
   "metadata": {},
   "outputs": [],
   "source": [
    "fruit = \"apple\"\n",
    "quantity = 5\n",
    "print(f\"I have {quantity} {fruit}s.\")"
   ]
  },
  {
   "cell_type": "markdown",
   "metadata": {},
   "source": [
    "### Functions (Reusable Recipes 📜)\n",
    "Functions are blocks of code that do a specific task. You can call them by their name to run them."
   ]
  },
  {
   "cell_type": "code",
   "execution_count": null,
   "metadata": {},
   "outputs": [],
   "source": [
    "def add_numbers(num1, num2):\n",
    "  sum_result = num1 + num2\n",
    "  return sum_result\n",
    "\n",
    "total = add_numbers(10, 25)\n",
    "print(f\"10 + 25 = {total}\")"
   ]
  },
  {
   "cell_type": "markdown",
   "metadata": {},
   "source": [
    "Great! Now that we're warmed up, let's learn some new tricks!"
   ]
  },
  {
   "cell_type": "markdown",
   "metadata": {},
   "source": [
    "## 2. New Superpowers: Conditionals, Loops, and Lists!\n",
    "\n",
    "These new tools will make your Python programs much more powerful and interesting."
   ]
  },
  {
   "cell_type": "markdown",
   "metadata": {},
   "source": [
    "### a) Conditionals: `if`, `elif`, `else` (Making Choices 🤔)\n",
    "\n",
    "Sometimes, you want your program to do different things based on whether something is true or false. That's where **conditionals** come in!\n",
    "\n",
    "*   `if`: Checks a condition. If it's `True`, the code indented underneath it runs.\n",
    "*   `elif`: Short for \"else if.\" If the `if` (or previous `elif`) was `False`, Python checks the `elif`'s condition. You can have many `elif`s.\n",
    "*   `else`: If all the `if` and `elif` conditions were `False`, the code under `else` runs. You can only have one `else` at the end.\n",
    "\n",
    "**Important:** The code that belongs to an `if`, `elif`, or `else` block **must be indented** (usually with 4 spaces or a tab). This is how Python knows which code belongs to which condition."
   ]
  },
  {
   "cell_type": "markdown",
   "metadata": {},
   "source": [
    "**Comparison Operators:**\n",
    "To make conditions, we often use comparison operators:\n",
    "*   `==` : Equal to (Is `a` the same as `b`?)\n",
    "*   `!=` : Not equal to (Is `a` different from `b`?)\n",
    "*   `>`  : Greater than (Is `a` bigger than `b`?)\n",
    "*   `<`  : Less than (Is `a` smaller than `b`?)\n",
    "*   `>=` : Greater than or equal to\n",
    "*   `<=` : Less than or equal to"
   ]
  },
  {
   "cell_type": "code",
   "execution_count": null,
   "metadata": {},
   "outputs": [],
   "source": [
    "temperature = 25 # degrees Celsius\n",
    "\n",
    "if temperature > 30:\n",
    "  print(\"It's a hot day! ☀️\")\n",
    "elif temperature > 20: # This means temperature is not > 30, but is > 20\n",
    "  print(\"It's a pleasant day. 😊\")\n",
    "elif temperature > 10:\n",
    "  print(\"It's a bit chilly. 🧥\")\n",
    "else: # If none of the above were true\n",
    "  print(\"Brrr, it's cold! 🥶\")"
   ]
  },
  {
   "cell_type": "code",
   "execution_count": null,
   "metadata": {},
   "outputs": [],
   "source": [
    "your_age = 15\n",
    "\n",
    "if your_age >= 18:\n",
    "  print(\"You can vote!\")\n",
    "else:\n",
    "  years_left = 18 - your_age\n",
    "  print(f\"You can vote in {years_left} years.\")"
   ]
  },
  {
   "cell_type": "markdown",
   "metadata": {},
   "source": [
    "### b) `for` Loops (Repeating Actions 🔁)\n",
    "\n",
    "What if you want to do something many times? Like print numbers from 1 to 5, or say hello to everyone in a list of names? That's where **loops** are super handy!\n",
    "\n",
    "A `for` loop goes through a sequence of items (like numbers or items in a list) one by one and does something with each item.\n",
    "\n",
    "The `range()` function is often used with `for` loops to create a sequence of numbers.\n",
    "*   `range(5)` gives numbers `0, 1, 2, 3, 4` (it stops *before* the number you give it).\n",
    "*   `range(1, 6)` gives numbers `1, 2, 3, 4, 5` (starts at the first, stops before the second).\n",
    "\n",
    "Just like with `if` statements, the code inside a `for` loop **must be indented**."
   ]
  },
  {
   "cell_type": "code",
   "execution_count": null,
   "metadata": {},
   "outputs": [],
   "source": [
    "# Print numbers from 0 to 4\n",
    "print(\"Counting from 0 to 4:\")\n",
    "for number in range(5):\n",
    "  print(number)\n",
    "\n",
    "# Print numbers from 1 to 3\n",
    "print(\"\\nCounting from 1 to 3:\")\n",
    "for i in range(1, 4): # 'i' is a common variable name for loop counters\n",
    "  print(i)"
   ]
  },
  {
   "cell_type": "code",
   "execution_count": null,
   "metadata": {},
   "outputs": [],
   "source": [
    "# Let's say hello to some friends\n",
    "friends = [\"Alice\", \"Bob\", \"Charlie\"] # This is a list! More on this next.\n",
    "\n",
    "print(\"\\nGreetings:\")\n",
    "for friend_name in friends:\n",
    "  print(f\"Hello, {friend_name}!\")"
   ]
  },
  {
   "cell_type": "markdown",
   "metadata": {},
   "source": [
    "### c) Lists (Ordered Collections 📝)\n",
    "\n",
    "A **list** is a way to store multiple items in a single variable, in a specific order. Think of it like a shopping list or a list of your favorite songs.\n",
    "\n",
    "*   You create a list using square brackets `[]`, with items separated by commas.\n",
    "*   Lists can hold different data types (numbers, strings, even other lists!).\n",
    "*   You can access items in a list by their **index**. Python starts counting from `0`! So the first item is at index `0`, the second at index `1`, and so on.\n",
    "*   You can add items, remove items, and change items in a list."
   ]
  },
  {
   "cell_type": "code",
   "execution_count": null,
   "metadata": {},
   "outputs": [],
   "source": [
    "# A list of favorite colors\n",
    "colors = [\"red\", \"blue\", \"green\", \"yellow\"]\n",
    "print(f\"My favorite colors are: {colors}\")\n",
    "\n",
    "# Accessing items by index\n",
    "first_color = colors[0] # The first item (index 0)\n",
    "second_color = colors[1] # The second item (index 1)\n",
    "print(f\"The first color is: {first_color}\")\n",
    "print(f\"The second color is: {second_color}\")\n",
    "\n",
    "# How many items are in the list?\n",
    "number_of_colors = len(colors) # len() gives the length\n",
    "print(f\"I have {number_of_colors} favorite colors.\")"
   ]
  },
  {
   "cell_type": "markdown",
   "metadata": {},
   "source": [
    "**Some Cool List Things:**"
   ]
  },
  {
   "cell_type": "code",
   "execution_count": null,
   "metadata": {},
   "outputs": [],
   "source": [
    "my_list = [10, 20, 30]\n",
    "print(f\"Original list: {my_list}\")\n",
    "\n",
    "# Add an item to the end\n",
    "my_list.append(40)\n",
    "print(f\"After append(40): {my_list}\")\n",
    "\n",
    "# Change an item\n",
    "my_list[1] = 25 # Change the item at index 1 (which was 20)\n",
    "print(f\"After changing item at index 1: {my_list}\")\n",
    "\n",
    "# Remove an item by its value\n",
    "my_list.remove(30)\n",
    "print(f\"After remove(30): {my_list}\")\n",
    "\n",
    "# You can use a for loop to go through a list!\n",
    "print(\"\\nLooping through the list:\")\n",
    "for item in my_list:\n",
    "  print(f\"Item: {item}\")"
   ]
  },
  {
   "cell_type": "markdown",
   "metadata": {},
   "source": [
    "## 3. Examples & Challenges: Let's Build a Game! 🎮\n",
    "\n",
    "Now it's time to put all these new skills together! We're going to create a simple **Number Guessing Game**."
   ]
  },
  {
   "cell_type": "markdown",
   "metadata": {},
   "source": [
    "### Number Guessing Game\n",
    "\n",
    "**How it works:**\n",
    "1.  The computer will secretly pick a random number (e.g., between 1 and 20).\n",
    "2.  The player (you!) will try to guess the number.\n",
    "3.  The computer will tell you if your guess is too high, too low, or correct.\n",
    "4.  You keep guessing until you get it right!\n",
    "\n",
    "**What we'll use:**\n",
    "*   `import random` (to let the computer pick a random number)\n",
    "*   Variables (to store the secret number, your guess, number of tries)\n",
    "*   `input()` function (to get your guess from you)\n",
    "*   `int()` function (to turn your typed guess, which is text, into a number)\n",
    "*   A `while` loop (a type of loop that keeps going *while* a condition is true - perfect for guessing until correct!)\n",
    "*   `if`/`elif`/`else` (to check your guess)\n",
    "*   `print()` (to give feedback)"
   ]
  },
  {
   "cell_type": "code",
   "execution_count": null,
   "metadata": {},
   "outputs": [],
   "source": [
    "import random # This line lets us use random number functions\n",
    "\n",
    "def play_guessing_game():\n",
    "    secret_number = random.randint(1, 20) # Computer picks a number between 1 and 20\n",
    "    number_of_guesses = 0\n",
    "    guess = 0 # Initialize guess to something that won't match secret_number\n",
    "\n",
    "    print(\"Let's play a guessing game!\")\n",
    "    print(\"I'm thinking of a number between 1 and 20.\")\n",
    "\n",
    "    # We'll use a 'while' loop here. It keeps looping as long as the condition is True.\n",
    "    while guess != secret_number:\n",
    "        user_input = input(\"Take a guess: \") # Get input from the player\n",
    "        \n",
    "        # We need to try to convert the input to a number.\n",
    "        # If the user types something that's not a number, it can cause an error.\n",
    "        # So we use 'try-except' to handle potential errors gracefully.\n",
    "        try:\n",
    "            guess = int(user_input) # Convert the typed text to an integer number\n",
    "            number_of_guesses = number_of_guesses + 1\n",
    "\n",
    "            if guess < secret_number:\n",
    "                print(\"Too low! Try again.\")\n",
    "            elif guess > secret_number:\n",
    "                print(\"Too high! Try again.\")\n",
    "            else:\n",
    "                print(f\"🎉 Hooray! You guessed it! The number was {secret_number}.\")\n",
    "                print(f\"It took you {number_of_guesses} guesses.\")\n",
    "        except ValueError: # This block runs if int(user_input) fails\n",
    "            print(\"Oops! That doesn't look like a number. Please enter a number.\")\n",
    "\n",
    "# Now, let's play the game!\n",
    "play_guessing_game()"
   ]
  },
  {
   "cell_type": "markdown",
   "metadata": {},
   "source": [
    "**Challenges & Ideas to Extend the Game:**\n",
    "\n",
    "1.  **Limit Guesses:** Can you change the game so the player only gets a certain number of tries (e.g., 5 guesses)? If they don't guess it in time, the game ends and reveals the number.\n",
    "    *Hint: You'll need to check `number_of_guesses` inside your `while` loop's condition or with an `if` statement inside the loop.*\n",
    "2.  **Different Range:** Make the secret number be between 1 and 50, or 1 and 100.\n",
    "3.  **Play Again?** After the game ends, ask the player if they want to play again. If they say \"yes\", start a new game!\n",
    "    *Hint: You might need another loop around the whole game logic.*\n",
    "4.  **Keep Track of Scores:** If you implement \"Play Again\", can you keep a list of how many guesses it took for each game played?"
   ]
  },
  {
   "cell_type": "markdown",
   "metadata": {},
   "source": [
    "### c) Challenge: Is This List Sorted? 🧐\n",
    "\n",
    "Let's write a function that checks if a list of numbers is sorted in ascending (smallest to largest) order.\n",
    "\n",
    "**What to do:**\n",
    "1.  Create a function called `is_list_sorted(my_list)`.\n",
    "2.  This function should take one input: `my_list` (which will be a list of numbers).\n",
    "3.  The function should return `True` if the list is sorted and `False` otherwise.\n",
    "\n",
    "**Hints:**\n",
    "*   You'll probably need a `for` loop to look at each item.\n",
    "*   How can you compare an item with the *next* item in the list? (Think about indices!)\n",
    "*   What about lists with 0 or 1 item? Are they sorted? (Hint: Yes, they are usually considered sorted by definition!)"
   ]
  },
  {
   "cell_type": "code",
   "execution_count": null,
   "metadata": {},
   "outputs": [],
   "source": [
    "def is_list_sorted(my_list):\n",
    "    # Your amazing code goes here!\n",
    "    n = len(my_list)\n",
    "    if n <= 1: # An empty list or a list with one item is considered sorted.\n",
    "        return True\n",
    "    \n",
    "    # Loop from the first item up to the second-to-last item.\n",
    "    # We need to compare my_list[i] with my_list[i+1].\n",
    "    for i in range(n - 1):\n",
    "        if my_list[i] > my_list[i+1]:\n",
    "            return False # Found an item that is greater than the next one, so not sorted.\n",
    "            \n",
    "    return True # If we went through the whole loop without returning False, it's sorted!\n",
    "\n",
    "# Let's test our function!\n",
    "list1 = [1, 2, 3, 4, 5]\n",
    "list2 = [1, 3, 2, 4, 5] # Not sorted\n",
    "list3 = [5, 4, 3, 2, 1] # Sorted in descending order, so our function should say False\n",
    "list4 = [10]\n",
    "list5 = []\n",
    "list6 = [2, 2, 3, 5, 5, 8] # Sorted, with duplicates\n",
    "\n",
    "print(f\"List {list1} is sorted: {is_list_sorted(list1)}\") # Expected: True\n",
    "print(f\"List {list2} is sorted: {is_list_sorted(list2)}\") # Expected: False\n",
    "print(f\"List {list3} is sorted: {is_list_sorted(list3)}\") # Expected: False\n",
    "print(f\"List {list4} is sorted: {is_list_sorted(list4)}\") # Expected: True\n",
    "print(f\"List {list5} is sorted: {is_list_sorted(list5)}\") # Expected: True\n",
    "print(f\"List {list6} is sorted: {is_list_sorted(list6)}\") # Expected: True"
   ]
  },
  {
   "cell_type": "markdown",
   "metadata": {},
   "source": [
    "## 🚀 You're Doing Amazingly! 🚀\n",
    "\n",
    "Wow, look at how much you've learned! You can now:\n",
    "*   Make your programs make decisions using `if`, `elif`, and `else`.\n",
    "*   Repeat actions using `for` loops (and you got a sneak peek at `while` loops!).\n",
    "*   Store and manage collections of items using lists.\n",
    "*   Combine these concepts to build fun little programs like the guessing game and the list sorter checker!\n",
    "\n",
    "Coding is all about breaking down problems and building solutions step-by-step. The more you practice, the more natural it will become.\n",
    "\n",
    "**Keep Exploring!**\n",
    "*   Try the challenges above.\n",
    "*   Think of other simple games or tasks you could try to code.\n",
    "*   Don't be afraid to experiment and make mistakes – that's how we learn best!"
   ]
  }
 ],
 "metadata": {
  "kernelspec": {
   "display_name": "Python 3",
   "language": "python",
   "name": "python3"
  },
  "language_info": {
   "codemirror_mode": {
    "name": "ipython",
    "version": 3
   },
   "file_extension": ".py",
   "mimetype": "text/x-python",
   "name": "python",
   "nbconvert_exporter": "python",
   "pygments_lexer": "ipython3",
   "version": "3.10.0"
  }
 },
 "nbformat": 4,
 "nbformat_minor": 5
}

