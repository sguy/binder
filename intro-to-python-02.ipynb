{
 "cells": [
  {
   "cell_type": "markdown",
   "id": "01be616a",
   "metadata": {},
   "source": [
    "# Python Adventure: Part 2 - Making Decisions and Repeating Yourself! 🧠🔁\n",
    "\n",
    "Welcome back, coding explorer! In our last adventure, you learned the basics of Jupyter Notebooks and took your first steps with Python. You're already on your way to becoming a coding superstar! ⭐\n",
    "\n",
    "Today, we're going to learn how to make our programs smarter by teaching them to make decisions and how to make them do things over and over again without us having to type everything out a million times. Let's get started!"
   ]
  },
  {
   "cell_type": "markdown",
   "id": "save-reminder-02",
   "metadata": {},
   "source": [
    "**👋 Heads up, Coder! Don't Forget to Save Your Progress!**\n",
    "\n",
    "Before you dive in, it's a great idea to save a copy of this notebook to your own Google Drive. This way, all your amazing work, experiments, and solutions to challenges will be saved in your personal space!\n",
    "\n",
    "**How to Save:**\n",
    "*   Go to **`File`** in the menu bar (top-left).\n",
    "*   Choose **`Save a copy in Drive`**.\n",
    "\n",
    "You can always access your Google Drive by going to drive.google.com in your web browser. Happy coding!"
   ]
  },
  {
   "cell_type": "markdown",
   "id": "07dd7ecf",
   "metadata": {},
   "source": [
    "## 1. Quick Recap! (What We Learned Last Time)\n",
    "\n",
    "Remember these cool things? Let's do a super-fast review."
   ]
  },
  {
   "cell_type": "markdown",
   "id": "07e12c28",
   "metadata": {},
   "source": [
    "### Comments (`#`)\n",
    "Comments are notes for humans in your code. Python ignores them. They start with a `#`."
   ]
  },
  {
   "cell_type": "code",
   "execution_count": null,
   "id": "bcd787dc",
   "metadata": {},
   "outputs": [],
   "source": [
    "# This is a comment! It helps explain what the code is doing.\n",
    "age = 14 # Another comment, this time next to some code."
   ]
  },
  {
   "cell_type": "markdown",
   "id": "708f5d43",
   "metadata": {},
   "source": [
    "### Variables (Labeled Boxes 📦)\n",
    "Variables store information. You give them a name and put a value inside."
   ]
  },
  {
   "cell_type": "code",
   "execution_count": null,
   "id": "0144f692",
   "metadata": {},
   "outputs": [],
   "source": [
    "playerName = \"CodeWizard\"\n",
    "highScore = 1000\n",
    "isGameOn = True"
   ]
  },
  {
   "cell_type": "markdown",
   "id": "f26137b6",
   "metadata": {},
   "source": [
    "### `print()` and f-strings (Talking to the Screen 🗣️)\n",
    "`print()` shows stuff on the screen. F-strings (like `f\"Hello {name}!\"`) are a cool way to mix text and variables."
   ]
  },
  {
   "cell_type": "code",
   "execution_count": null,
   "id": "6938e07f",
   "metadata": {},
   "outputs": [],
   "source": [
    "fruit = \"apple\"\n",
    "quantity = 5\n",
    "print(f\"I have {quantity} {fruit}s.\")"
   ]
  },
  {
   "cell_type": "markdown",
   "id": "c6bff5de",
   "metadata": {},
   "source": [
    "### Functions (Reusable Recipes 📜)\n",
    "Functions are blocks of code that do a specific task. You can call them by their name to run them."
   ]
  },
  {
   "cell_type": "code",
   "execution_count": null,
   "id": "78faf726",
   "metadata": {},
   "outputs": [],
   "source": [
    "def add_numbers(num1, num2):\n",
    "  sum_result = num1 + num2\n",
    "  return sum_result\n",
    "\n",
    "total = add_numbers(10, 25)\n",
    "print(f\"10 + 25 = {total}\")"
   ]
  },
  {
   "cell_type": "markdown",
   "id": "50456797",
   "metadata": {},
   "source": [
    "Great! Now that we're warmed up, let's learn some new tricks!"
   ]
  },
  {
   "cell_type": "markdown",
   "id": "7bdf938d",
   "metadata": {},
   "source": [
    "## 2. New Superpowers: Conditionals, Loops, and Lists!\n",
    "\n",
    "These new tools will make your Python programs much more powerful and interesting."
   ]
  },
  {
   "cell_type": "markdown",
   "id": "894ef07a",
   "metadata": {},
   "source": [
    "### a) Conditionals: `if`, `elif`, `else` (Making Choices 🤔)\n",
    "\n",
    "Sometimes, you want your program to do different things based on whether something is true or false. That's where **conditionals** come in!\n",
    "\n",
    "*   `if`: Checks a condition. If it's `True`, the code indented underneath it runs.\n",
    "*   `elif`: Short for \"else if.\" If the `if` (or previous `elif`) was `False`, Python checks the `elif`'s condition. You can have many `elif`s.\n",
    "*   `else`: If all the `if` and `elif` conditions were `False`, the code under `else` runs. You can only have one `else` at the end.\n",
    "\n",
    "**Important:** The code that belongs to an `if`, `elif`, or `else` block **must be indented** (usually with 4 spaces or a tab). This is how Python knows which code belongs to which condition."
   ]
  },
  {
   "cell_type": "markdown",
   "id": "30519cb2",
   "metadata": {},
   "source": [
    "**Comparison Operators:**\n",
    "To make conditions, we often use comparison operators:\n",
    "*   `==` : Equal to (Is `a` the same as `b`?)\n",
    "*   `!=` : Not equal to (Is `a` different from `b`?)\n",
    "*   `>`  : Greater than (Is `a` bigger than `b`?)\n",
    "*   `<`  : Less than (Is `a` smaller than `b`?)\n",
    "*   `>=` : Greater than or equal to\n",
    "*   `<=` : Less than or equal to"
   ]
  },
  {
   "cell_type": "code",
   "execution_count": null,
   "id": "41f77e65",
   "metadata": {},
   "outputs": [],
   "source": [
    "temperature = 25 # degrees Celsius\n",
    "\n",
    "if temperature > 30:\n",
    "  print(\"It's a hot day! ☀️\")\n",
    "elif temperature > 20: # This means temperature is not > 30, but is > 20\n",
    "  print(\"It's a pleasant day. 😊\")\n",
    "elif temperature > 10:\n",
    "  print(\"It's a bit chilly. 🧥\")\n",
    "else: # If none of the above were true\n",
    "  print(\"Brrr, it's cold! 🥶\")"
   ]
  },
  {
   "cell_type": "code",
   "execution_count": null,
   "id": "8a211b30",
   "metadata": {},
   "outputs": [],
   "source": [
    "your_age = 15\n",
    "\n",
    "if your_age >= 18:\n",
    "  print(\"You can vote!\")\n",
    "else:\n",
    "  years_left = 18 - your_age\n",
    "  print(f\"You can vote in {years_left} years.\")"
   ]
  },
  {
   "cell_type": "markdown",
   "id": "7b07e867",
   "metadata": {},
   "source": [
    "### b) `for` Loops (Repeating Actions 🔁)\n",
    "\n",
    "What if you want to do something many times? Like print numbers from 1 to 5, or say hello to everyone in a list of names? That's where **loops** are super handy!\n",
    "\n",
    "A `for` loop goes through a sequence of items (like numbers or items in a list) one by one and does something with each item.\n",
    "\n",
    "The `range()` function is often used with `for` loops to create a sequence of numbers.\n",
    "*   `range(5)` gives numbers `0, 1, 2, 3, 4` (it stops *before* the number you give it).\n",
    "*   `range(1, 6)` gives numbers `1, 2, 3, 4, 5` (starts at the first, stops before the second).\n",
    "\n",
    "Just like with `if` statements, the code inside a `for` loop **must be indented**."
   ]
  },
  {
   "cell_type": "code",
   "execution_count": null,
   "id": "be94fe1e",
   "metadata": {},
   "outputs": [],
   "source": [
    "# Print numbers from 0 to 4\n",
    "print(\"Counting from 0 to 4:\")\n",
    "for number in range(5):\n",
    "  print(number)\n",
    "\n",
    "# Print numbers from 1 to 3\n",
    "print(\"\\nCounting from 1 to 3:\")\n",
    "for i in range(1, 4): # 'i' is a common variable name for loop counters\n",
    "  print(i)"
   ]
  },
  {
   "cell_type": "code",
   "execution_count": null,
   "id": "8bd68653",
   "metadata": {},
   "outputs": [],
   "source": [
    "# Let's say hello to some friends\n",
    "friends = [\"Alice\", \"Bob\", \"Charlie\"] # This is a list! More on this next.\n",
    "\n",
    "print(\"\\nGreetings:\")\n",
    "for friend_name in friends:\n",
    "  print(f\"Hello, {friend_name}!\")"
   ]
  },
  {
   "cell_type": "markdown",
   "id": "52c22905",
   "metadata": {},
   "source": [
    "### c) Lists (Ordered Collections 📝)\n",
    "\n",
    "A **list** is a way to store multiple items in a single variable, in a specific order. Think of it like a shopping list or a list of your favorite songs.\n",
    "\n",
    "*   You create a list using square brackets `[]`, with items separated by commas.\n",
    "*   Lists can hold different data types (numbers, strings, even other lists!).\n",
    "*   You can access items in a list by their **index**. Python starts counting from `0`! So the first item is at index `0`, the second at index `1`, and so on.\n",
    "*   You can add items, remove items, and change items in a list."
   ]
  },
  {
   "cell_type": "code",
   "execution_count": null,
   "id": "c7b6f2a3",
   "metadata": {},
   "outputs": [],
   "source": [
    "# A list of favorite colors\n",
    "colors = [\"red\", \"blue\", \"green\", \"yellow\"]\n",
    "print(f\"My favorite colors are: {colors}\")\n",
    "\n",
    "# Accessing items by index\n",
    "first_color = colors[0] # The first item (index 0)\n",
    "second_color = colors[1] # The second item (index 1)\n",
    "print(f\"The first color is: {first_color}\")\n",
    "print(f\"The second color is: {second_color}\")\n",
    "\n",
    "# How many items are in the list?\n",
    "number_of_colors = len(colors) # len() gives the length\n",
    "print(f\"I have {number_of_colors} favorite colors.\")"
   ]
  },
  {
   "cell_type": "markdown",
   "id": "len-loop-explanation-detailed",
   "metadata": {},
   "source": [
    "A bit more on `len()`: The `len()` function is a built-in Python function that returns the number of items in an object. When used with a list, `len()` tells you how many elements are in that list.\\n",
    "\\n",
    "### Using `len()` to Loop Through a List by Index\\n",
    "\\n",
    "While you can loop directly through the items of a list (e.g., `for item in my_list:`), sometimes you need the **index** of each item as you loop. This is where `len()` combined with `range()` is very useful.\\n",
    "\\n",
    "*   `len(my_list)` gives the total count of items.\\n",
    "*   `range(len(my_list))` generates a sequence of numbers from `0` up to (but not including) the length of the list. These numbers are the valid indices for the list.\\n",
    "\\n",
    "This allows you to access each element using its index `my_list[i]` inside a `for` loop.\\n",
    "\\n",
    "**Example:**\\n",
    "\\n",
    "Let's see how to print each fruit along with its position (index) in the list:\\n",
    "\\n",
    "```python\\n",
    "fruits_to_check = [\"mango\", \"pineapple\", \"guava\", \"lychee\"]\\n",
    "\\n",
    "print(f\"The list 'fruits_to_check' has {len(fruits_to_check)} items.\")\\n",
    "print(\"Looping through the list using len() and range() to get indices:\")\\n",
    "\\n",
    "for i in range(len(fruits_to_check)):\n",
    "    # 'i' will take values 0, 1, 2, 3\\n",
    "    # fruits_to_check[i] will access the element at that index\\n",
    "    print(f\"Index {i}: {fruits_to_check[i]}\")\\n",
    "```\\n",
    "\\n",
    "This method is particularly handy when you need to:\\n",
    "*   Access items by their position.\\n",
    "*   Modify items in the list at specific indices (though be careful when modifying a list while iterating over it!).\\n",
    "*   Compare or work with elements from multiple lists at the same index."
   ]
  },
  {
   "cell_type": "markdown",
   "id": "d07436bb",
   "metadata": {},
   "source": [
    "**Some Cool List Things:**"
   ]
  },
  {
   "cell_type": "code",
   "execution_count": null,
   "id": "0bed6ab0",
   "metadata": {},
   "outputs": [],
   "source": [
    "my_list = [10, 20, 30]\n",
    "print(f\"Original list: {my_list}\")\n",
    "\n",
    "# Add an item to the end\n",
    "my_list.append(40)\n",
    "print(f\"After append(40): {my_list}\")\n",
    "\n",
    "# Change an item\n",
    "my_list[1] = 25 # Change the item at index 1 (which was 20)\n",
    "print(f\"After changing item at index 1: {my_list}\")\n",
    "\n",
    "# Remove an item by its value\n",
    "my_list.remove(30)\n",
    "print(f\"After remove(30): {my_list}\")\n",
    "\n",
    "# You can use a for loop to go through a list!\n",
    "print(\"\\nLooping through the list:\")\n",
    "for item in my_list:\n",
    "  print(f\"Item: {item}\")"
   ]
  },
  {
   "cell_type": "markdown",
   "id": "tuple-intro-markdown",
   "metadata": {},
   "source": [
    "### d) Tuples (Immutable Ordered Collections 📦🔒)\n",
    "\n",
    "Similar to lists, **tuples** are used to store multiple items in a single variable, in a specific order. The main difference is that tuples are **immutable**, meaning once you create a tuple, you cannot change its contents (you can't add, remove, or change items).\n",
    "\n",
    "*   You usually create a tuple using parentheses `()` with items separated by commas. You can also create them with just commas (though parentheses are clearer).\n",
    "*   Like lists, tuples can hold different data types.\n",
    "*   You access items in a tuple by their index, starting from `0`, just like lists.\n",
    "*   Because they are immutable, they are often used for data that shouldn't change, like coordinates (x, y) or RGB color values."
   ]
  },
  {
   "cell_type": "code",
   "execution_count": null,
   "id": "tuple-creation-code",
   "metadata": {},
   "outputs": [],
   "source": [
    "# A tuple of coordinates\n",
    "point = (10, 20) # x, y coordinates\n",
    "print(f\"Point coordinates: {point}\")\n",
    "print(f\"X-coordinate: {point[0]}\")\n",
    "print(f\"Y-coordinate: {point[1]}\")\n",
    "\n",
    "# A tuple with mixed data types\n",
    "mixed_tuple = (\"hello\", 100, True)\n",
    "print(f\"Mixed tuple: {mixed_tuple}\")\n",
    "\n",
    "# Trying to change a tuple will cause an error (this is good!)\n",
    "# Uncomment the line below to see the error:\n",
    "# point[0] = 15 # This will raise a TypeError because tuples are immutable"
   ]
  },
  {
   "cell_type": "markdown",
   "id": "tuple-return-markdown",
   "metadata": {},
   "source": [
    "### Using Tuples to Return Multiple Values from a Function\n",
    "\n",
    "One very common and useful application of tuples is to return multiple values from a function. When a function returns a tuple, you can easily \"unpack\" these values into separate variables.\n",
    "\n",
    "Imagine you have a function that needs to give back both a minimum and a maximum value from a list. A tuple is perfect for this!"
   ]
  },
  {
   "cell_type": "code",
   "execution_count": null,
   "id": "tuple-return-code",
   "metadata": {},
   "outputs": [],
   "source": [
    "def get_min_max(numbers):\n",
    "    \"\"\"Returns the minimum and maximum numbers from a list.\"\"\"\n",
    "    if not numbers: # Handle empty list case\n",
    "        return (None, None) # Return a tuple of Nones\n",
    "    return (min(numbers), max(numbers)) # min() and max() are built-in functions\n",
    "\n",
    "my_numbers = [3, 1, 4, 1, 5, 9, 2, 6]\n",
    "minimum, maximum = get_min_max(my_numbers) # Unpacking the tuple returned by the function\n",
    "\n",
    "print(f\"From the list {my_numbers}:\")\n",
    "print(f\"Minimum value: {minimum}\")\n",
    "print(f\"Maximum value: {maximum}\")\n",
    "\n",
    "empty_list_result = get_min_max([])\n",
    "print(f\"\\nResult for empty list: {empty_list_result}\")\n",
    "min_val, max_val = empty_list_result\n",
    "print(f\"Min from empty: {min_val}, Max from empty: {max_val}\")"
   ]
  },
  {
   "cell_type": "markdown",
   "id": "bfdcfe54",
   "metadata": {},
   "source": [
    "## 3. Examples & Challenges: Let's Build a Game! 🎮\n",
    "\n",
    "Now it's time to put all these new skills together! We're going to create a simple **Number Guessing Game**."
   ]
  },
  {
   "cell_type": "markdown",
   "id": "7a365a95",
   "metadata": {},
   "source": [
    "### Number Guessing Game\n",
    "\n",
    "**How it works:**\n",
    "1.  The computer will secretly pick a random number (e.g., between 1 and 20).\n",
    "2.  The player (you!) will try to guess the number.\n",
    "3.  The computer will tell you if your guess is too high, too low, or correct.\n",
    "4.  You keep guessing until you get it right!\n",
    "\n",
    "**What we'll use:**\n",
    "*   `import random` (to let the computer pick a random number)\n",
    "*   Variables (to store the secret number, your guess, number of tries)\n",
    "*   `input()` function (to get your guess from you)\n",
    "*   `int()` function (to turn your typed guess, which is text, into a number)\n",
    "*   A `while` loop (a type of loop that keeps going *while* a condition is true - perfect for guessing until correct!)\n",
    "*   `if`/`elif`/`else` (to check your guess)\n",
    "*   `print()` (to give feedback)"
   ]
  },
  {
   "cell_type": "code",
   "execution_count": null,
   "id": "f76f4c9d",
   "metadata": {},
   "outputs": [],
   "source": [
    "import random # This line lets us use random number functions\n",
    "\n",
    "def play_guessing_game():\n",
    "    secret_number = random.randint(1, 20) # Computer picks a number between 1 and 20\n",
    "    number_of_guesses = 0\n",
    "    guess = 0 # Initialize guess to something that won't match secret_number\n",
    "\n",
    "    print(\"Let's play a guessing game!\")\n",
    "    print(\"I'm thinking of a number between 1 and 20.\")\n",
    "\n",
    "    # We'll use a 'while' loop here. It keeps looping as long as the condition is True.\n",
    "    while guess != secret_number:\n",
    "        user_input = input(\"Take a guess: \") # Get input from the player\n",
    "        \n",
    "        # We need to try to convert the input to a number.\n",
    "        # If the user types something that's not a number, it can cause an error.\n",
    "        # So we use 'try-except' to handle potential errors gracefully.\n",
    "        try:\n",
    "            guess = int(user_input) # Convert the typed text to an integer number\n",
    "            number_of_guesses = number_of_guesses + 1\n",
    "\n",
    "            if guess < secret_number:\n",
    "                print(\"Too low! Try again.\")\n",
    "            elif guess > secret_number:\n",
    "                print(\"Too high! Try again.\")\n",
    "            else:\n",
    "                print(f\"🎉 Hooray! You guessed it! The number was {secret_number}.\")\n",
    "                print(f\"It took you {number_of_guesses} guesses.\")\n",
    "        except ValueError: # This block runs if int(user_input) fails\n",
    "            print(\"Oops! That doesn't look like a number. Please enter a number.\")\n",
    "\n",
    "# Now, let's play the game!\n",
    "play_guessing_game()"
   ]
  },
  {
   "cell_type": "markdown",
   "id": "count-fruit-challenge",
   "metadata": {},
   "source": [
    "### b) Challenge: Counting Specific Fruits 🍎🍌\n",
    "\n",
    "Let's practice working with lists and loops by writing a function that counts how many times a specific item appears in a list.\n",
    "\n",
    "**Your Task:**\n",
    "\n",
    "Write a function called `count_fruit` that takes two inputs:\n",
    "1.  `fruit_name`: A string representing the name of the fruit you want to count (e.g., `'apple'`).\n",
    "2.  `fruit_list`: A list of strings, where each string is a fruit name (e.g., `['apple', 'banana', 'apple', 'orange']`).\n",
    "\n",
    "The function should return a single number: the total count of how many times `fruit_name` appeared in `fruit_list`."
   ]
  },
  {
   "cell_type": "code",
   "execution_count": null,
   "id": "count-fruit-function",
   "metadata": {},
   "outputs": [],
   "source": [
    "def count_fruit(fruit_name, fruit_list):\n",
    "    # TODO: Your code goes here!\n",
    "    # Hint: You'll need a loop to go through the fruit_list\n",
    "    # and an if statement to check if each item matches fruit_name.\n",
    "    # You'll also need a counter variable that starts at 0 and increases.\n",
    "    pass # Remove this line and write your code here!\n",
    "\n",
    "# You can test your function with the examples below after you write it!"
   ]
  },
  {
   "cell_type": "markdown",
   "id": "count-fruit-test-cases",
   "metadata": {},
   "source": [
    "**Test Cases:**\n",
    "\n",
    "Run the cells below to test your `count_fruit` function after you've written it. The output should match the expected results."
   ]
  },
  {
   "cell_type": "code",
   "execution_count": null,
   "id": "count-fruit-test-1",
   "metadata": {},
   "outputs": [],
   "source": [
    "my_fruits = ['apple', 'banana', 'apple', 'orange', 'banana', 'apple']\n",
    "print(f\"Count of 'apple' in {my_fruits}: {count_fruit('apple', my_fruits)}\") # Expected: 3\n",
    "print(f\"Count of 'banana' in {my_fruits}: {count_fruit('banana', my_fruits)}\") # Expected: 2\n",
    "print(f\"Count of 'grape' in {my_fruits}: {count_fruit('grape', my_fruits)}\") # Expected: 0"
   ]
  },
  {
   "cell_type": "markdown",
   "id": "e9f37b69",
   "metadata": {},
   "source": [
    "**Challenges & Ideas to Extend the Game:**\n",
    "\n",
    "1.  **Limit Guesses:** Can you change the game so the player only gets a certain number of tries (e.g., 5 guesses)? If they don't guess it in time, the game ends and reveals the number.\n",
    "    *Hint: You'll need to check `number_of_guesses` inside your `while` loop's condition or with an `if` statement inside the loop.*\n",
    "2.  **Different Range:** Make the secret number be between 1 and 50, or 1 and 100.\n",
    "3.  **Play Again?** After the game ends, ask the player if they want to play again. If they say \"yes\", start a new game!\n",
    "    *Hint: You might need another loop around the whole game logic.*\n",
    "4.  **Keep Track of Scores:** If you implement \"Play Again\", can you keep a list of how many guesses it took for each game played?"
   ]
  },
  {
   "cell_type": "markdown",
   "id": "is-list-sorted-challenge",
   "metadata": {},
   "source": [
    "### c) Challenge: Is This List Sorted? 🧐\n",
    "\n",
    "Let's write a function that checks if a list of numbers is sorted in ascending (smallest to largest) order.\n",
    "\n",
    "**What to do:**\n",
    "1.  Create a function called `is_list_sorted(my_list)`.\n",
    "2.  This function should take one input: `my_list` (which will be a list of numbers).\n",
    "3.  The function should return `True` if the list is sorted and `False` otherwise.\n",
    "\n",
    "**Hints:**\n",
    "*   You'll probably need a `for` loop to look at each item.\n",
    "*   How can you compare an item with the *next* item in the list? (Think about indices!)\n",
    "*   What about lists with 0 or 1 item? Are they sorted? (Hint: Yes, they are usually considered sorted by definition!)"
   ]
  },
  {
   "cell_type": "code",
   "execution_count": null,
   "id": "f4db5812",
   "metadata": {},
   "outputs": [],
   "source": [
    "def is_list_sorted(my_list):\n",
    "    # Your amazing code goes here!\n",
    "    n = len(my_list)\n",
    "    if n <= 1: # An empty list or a list with one item is considered sorted.\n",
    "        return True\n",
    "    \n",
    "    # Loop from the first item up to the second-to-last item.\n",
    "    # We need to compare my_list[i] with my_list[i+1].\n",
    "    for i in range(n - 1):\n",
    "        if my_list[i] > my_list[i+1]:\n",
    "            return False # Found an item that is greater than the next one, so not sorted.\n",
    "            \n",
    "    return True # If we went through the whole loop without returning False, it's sorted!\n",
    "\n",
    "# Let's test our function!\n",
    "list1 = [1, 2, 3, 4, 5]\n",
    "list2 = [1, 3, 2, 4, 5] # Not sorted\n",
    "list3 = [5, 4, 3, 2, 1] # Sorted in descending order, so our function should say False\n",
    "list4 = [10]\n",
    "list5 = []\n",
    "list6 = [2, 2, 3, 5, 5, 8] # Sorted, with duplicates\n",
    "\n",
    "print(f\"List {list1} is sorted: {is_list_sorted(list1)}\") # Expected: True\n",
    "print(f\"List {list2} is sorted: {is_list_sorted(list2)}\") # Expected: False\n",
    "print(f\"List {list3} is sorted: {is_list_sorted(list3)}\") # Expected: False\n",
    "print(f\"List {list4} is sorted: {is_list_sorted(list4)}\") # Expected: True\n",
    "print(f\"List {list5} is sorted: {is_list_sorted(list5)}\") # Expected: True\n",
    "print(f\"List {list6} is sorted: {is_list_sorted(list6)}\") # Expected: True"
   ]
  },
  {
   "cell_type": "markdown",
   "id": "split-challenge-markdown",
   "metadata": {},
   "source": [
    "### d) Challenge: Splitting a List ✂️\n",
    "\n",
    "Time for another list manipulation challenge! Let's write a function that takes a list of numbers and a specific value, then splits the list into two new lists based on that value.\n",
    "\n",
    "**Your Task:**\n",
    "\n",
    "Create a function called `split(my_list, val)` that accepts two arguments:\n",
    "1.  `my_list`: A list of numbers.\n",
    "2.  `val`: A single number that will be used as the splitting point.\n",
    "\n",
    "The function should return a **tuple** containing two lists:\n",
    "*   The **first list** in the tuple should contain all elements from `my_list` that are **less than or equal to `val`**.\n",
    "*   The **second list** in the tuple should contain all elements from `my_list` that are **greater than `val`**.\n",
    "\n",
    "The order of elements within the two returned lists should be preserved from the original list."
   ]
  },
  {
   "cell_type": "code",
   "execution_count": null,
   "id": "split-challenge-code",
   "metadata": {},
   "outputs": [],
   "source": [
    "def split(my_list, val):\n",
    "    # Your brilliant code will go here!\n",
    "    # Hint 1: You'll need to create two new empty lists, one for elements <= val,\n",
    "    #           and one for elements > val.\n",
    "    # Hint 2: Loop through each item in my_list.\n",
    "    # Hint 3: Use an if/else statement to decide which new list to append the item to.\n",
    "    # Hint 4: Finally, return a tuple containing your two new lists, e.g., (less_or_equal_list, greater_list)\n",
    "    pass # Remove this line and write your implementation!"
   ]
  },
  {
   "cell_type": "markdown",
   "id": "split-challenge-tests-intro",
   "metadata": {},
   "source": [
    "**Test Cases for `split`:**\n",
    "\n",
    "Run the cell below to test your `split` function. Ensure the output matches the expected results."
   ]
  },
  {
   "cell_type": "code",
   "execution_count": null,
   "id": "split-challenge-tests-code",
   "metadata": {},
   "outputs": [],
   "source": [
    "# Test case 1: Basic split\n",
    "list_a = [1, 5, 3, 8, 2, 10, 4, 6]\n",
    "value_a = 4\n",
    "expected_a = ([1, 3, 2, 4], [5, 8, 10, 6])\n",
    "result_a = split(list_a, value_a)\n",
    "print(f\"Splitting {list_a} at {value_a}: Got {result_a}, Expected {expected_a}. Correct: {result_a == expected_a}\")\n",
    "\n",
    "# Test case 2: All elements less than or equal to val\n",
    "list_b = [10, 20, 5, 15]\n",
    "value_b = 30\n",
    "expected_b = ([10, 20, 5, 15], [])\n",
    "result_b = split(list_b, value_b)\n",
    "print(f\"Splitting {list_b} at {value_b}: Got {result_b}, Expected {expected_b}. Correct: {result_b == expected_b}\")\n",
    "\n",
    "# Test case 3: All elements greater than val\n",
    "list_c = [100, 200, 150]\n",
    "value_c = 50\n",
    "expected_c = ([], [100, 200, 150])\n",
    "result_c = split(list_c, value_c)\n",
    "print(f\"Splitting {list_c} at {value_c}: Got {result_c}, Expected {expected_c}. Correct: {result_c == expected_c}\")\n",
    "\n",
    "# Test case 4: Empty list\n",
    "list_d = []\n",
    "value_d = 5\n",
    "expected_d = ([], [])\n",
    "result_d = split(list_d, value_d)\n",
    "print(f\"Splitting {list_d} at {value_d}: Got {result_d}, Expected {expected_d}. Correct: {result_d == expected_d}\")\n",
    "\n",
    "# Test case 5: List with duplicates and value present\n",
    "list_e = [4, 2, 7, 4, 9, 1, 4]\n",
    "value_e = 4\n",
    "expected_e = ([4, 2, 4, 1, 4], [7, 9]) # Order within sub-lists should be maintained\n",
    "result_e = split(list_e, value_e)\n",
    "print(f\"Splitting {list_e} at {value_e}: Got {result_e}, Expected {expected_e}. Correct: {result_e == expected_e}\")\n",
    "\n",
    "# Test case 6: Negative numbers and zero\n",
    "list_f = [-5, 0, 10, -2, 3, 0]\n",
    "value_f = 0\n",
    "expected_f = ([-5, 0, -2, 0], [10, 3])\n",
    "result_f = split(list_f, value_f)\n",
    "print(f\"Splitting {list_f} at {value_f}: Got {result_f}, Expected {expected_f}. Correct: {result_f == expected_f}\")"
   ]
  },
  {
   "cell_type": "markdown",
   "id": "92785a20",
   "metadata": {},
   "source": [
    "## 🚀 You're Doing Amazingly! 🚀\n",
    "\n",
    "Wow, look at how much you've learned! You can now:\n",
    "*   Make your programs make decisions using `if`, `elif`, and `else`.\n",
    "*   Repeat actions using `for` loops (and you got a sneak peek at `while` loops!).\n",
    "*   Store and manage collections of items using lists.\n",
    "*   Combine these concepts to build fun little programs like the guessing game and the list sorter checker!\n",
    "\n",
    "Coding is all about breaking down problems and building solutions step-by-step. The more you practice, the more natural it will become.\n",
    "\n",
    "**Keep Exploring!**\n",
    "*   Try the challenges above.\n",
    "*   Think of other simple games or tasks you could try to code.\n",
    "*   Don't be afraid to experiment and make mistakes – that's how we learn best!"
   ]
  }
 ],
 "metadata": {
  "kernelspec": {
   "display_name": "Python 3 (ipykernel)",
   "language": "python",
   "name": "python3"
  },
  "language_info": {
   "codemirror_mode": {
    "name": "ipython",
    "version": 3
   },
   "file_extension": ".py",
   "mimetype": "text/x-python",
   "name": "python",
   "nbconvert_exporter": "python",
   "pygments_lexer": "ipython3",
   "version": "3.10.17"
  }
 },
 "nbformat": 4,
 "nbformat_minor": 5
}
