{
 "cells": [
  {
   "cell_type": "markdown",
   "metadata": {},
   "source": [
    "# Adventure into Cryptography: Secrets of Numbers!\n",
    "\n",
    "Welcome, young codebreaker! Get ready to dive into the fascinating world of numbers and discover how they're used to keep secrets safe. We'll explore:\n",
    "\n",
    "1.  **Factoring:** Breaking numbers down into their building blocks.\n",
    "2.  **Prime Numbers:** The special, 'unsplittable' numbers that are the superheroes of cryptography.\n",
    "3.  **Public Key Encryption:** A super clever way to send secret messages.\n",
    "\n",
    "Let's begin our adventure!"
   ]
  },
  {
   "cell_type": "markdown",
   "metadata": {},
   "source": [
    "## Part 1: Factoring - The Art of Breaking Down Numbers\n",
    "\n",
    "Imagine you have a pile of 12 cookies. How many different ways can you arrange them into equal smaller piles (or rows in a rectangle)?\n",
    "\n",
    "*   1 pile of 12 cookies (1 x 12)\n",
    "*   2 piles of 6 cookies (2 x 6)\n",
    "*   3 piles of 4 cookies (3 x 4)\n",
    "*   4 piles of 3 cookies (4 x 3)\n",
    "*   6 piles of 2 cookies (6 x 2)\n",
    "*   12 piles of 1 cookie (12 x 1)\n",
    "\n",
    "The numbers you used to make these piles (1, 2, 3, 4, 6, 12) are called the **factors** of 12. \n",
    "\n",
    "**Factoring** is like finding all the whole numbers that multiply together to give you your original number. \n",
    "\n",
    "**Example:**\n",
    "*   Factors of 10 are 1, 2, 5, 10 (because 1x10 = 10, and 2x5 = 10)\n",
    "*   Factors of 7 are 1, 7 (because only 1x7 = 7)"
   ]
  },
  {
   "cell_type": "markdown",
   "metadata": {},
   "source": [
    "### Programming Challenge 1: Find the Factors!\n",
    "\n",
    "Let's write a Python function to find all the factors of a given number."
   ]
  },
  {
   "cell_type": "code",
   "execution_count": 1,
   "metadata": {},
   "outputs": [
    {
     "name": "stdout",
     "output_type": "stream",
     "text": [
      "The factors of 24 are: [1, 2, 3, 4, 6, 8, 12, 24]\n",
      "The factors of 17 are: [1, 17]\n",
      "The factors of 36 are: [1, 2, 3, 4, 6, 9, 12, 18, 36]\n"
     ]
    }
   ],
   "source": [
    "def find_factors(number):\n",
    "    factors = []\n",
    "    # We only need to check up to the number itself\n",
    "    for i in range(1, number + 1):\n",
    "        if number % i == 0:  # The '%' (modulo) operator gives the remainder of a division\n",
    "            factors.append(i)\n",
    "    return factors\n",
    "\n",
    "# Test your function!\n",
    "num_to_factor = 24\n",
    "print(f\"The factors of {num_to_factor} are: {find_factors(num_to_factor)}\")\n",
    "\n",
    "num_to_factor = 17\n",
    "print(f\"The factors of {num_to_factor} are: {find_factors(num_to_factor)}\")\n",
    "\n",
    "num_to_factor = 36\n",
    "print(f\"The factors of {num_to_factor} are: {find_factors(num_to_factor)}\")"
   ]
  },
  {
   "cell_type": "markdown",
   "metadata": {},
   "source": [
    "**Think about it:**\n",
    "*   Is there a way to make your `find_factors` function more efficient? (Hint: Do you need to check all the way up to `number`?)"
   ]
  },
  {
   "cell_type": "markdown",
   "metadata": {},
   "source": [
    "## Part 2: Prime Numbers - The Indivisible Superheroes\n",
    "\n",
    "Some numbers are special. They only have two factors: 1 and themselves. These are called **prime numbers**.\n",
    "\n",
    "**Examples of Prime Numbers:**\n",
    "*   2 (factors: 1, 2)\n",
    "*   3 (factors: 1, 3)\n",
    "*   5 (factors: 1, 5)\n",
    "*   7 (factors: 1, 7)\n",
    "*   11 (factors: 1, 11)\n",
    "\n",
    "Numbers that have more than two factors (like 4, 6, 8, 9, 10, 12) are called **composite numbers**.\n",
    "\n",
    "**Why is 1 not a prime number?** This is a bit of a special case by definition. Prime numbers need to have exactly *two* distinct positive divisors, 1 and themselves. The number 1 only has one positive divisor (1 itself). Including 1 as a prime would make some important theorems in math (like the Fundamental Theorem of Arithmetic, which we'll touch on) more complicated to state.\n",
    "\n",
    "Prime numbers are like the basic building blocks for all other whole numbers. This idea is so important it has a name: **The Fundamental Theorem of Arithmetic**. It states that every whole number greater than 1 can be uniquely written as a product of prime numbers (ignoring the order of the factors).\n",
    "\n",
    "**Example: Prime Factorization**\n",
    "*   12 = 2 x 2 x 3\n",
    "*   30 = 2 x 3 x 5\n",
    "*   17 = 17 (it's already prime!)"
   ]
  },
  {
   "cell_type": "markdown",
   "metadata": {},
   "source": [
    "### Programming Challenge 2: Is it Prime?\n",
    "\n",
    "Write a Python function to check if a number is prime."
   ]
  },
  {
   "cell_type": "code",
   "execution_count": 2,
   "metadata": {},
   "outputs": [
    {
     "name": "stdout",
     "output_type": "stream",
     "text": [
      "Is 2 prime? True\n",
      "Is 10 prime? False\n",
      "Is 13 prime? True\n",
      "Is 1 prime? False\n",
      "Is 29 prime? True\n"
     ]
    }
   ],
   "source": [
    "def is_prime(number):\n",
    "    if number < 2:  # Numbers less than 2 are not prime\n",
    "        return False\n",
    "    # We can use our find_factors function from before!\n",
    "    # A number is prime if it has exactly two factors: 1 and itself.\n",
    "    factors = find_factors(number) \n",
    "    if len(factors) == 2:\n",
    "        return True\n",
    "    else:\n",
    "        return False\n",
    "\n",
    "# Test your function!\n",
    "print(f\"Is 2 prime? {is_prime(2)}\")\n",
    "print(f\"Is 10 prime? {is_prime(10)}\")\n",
    "print(f\"Is 13 prime? {is_prime(13)}\")\n",
    "print(f\"Is 1 prime? {is_prime(1)}\")\n",
    "print(f\"Is 29 prime? {is_prime(29)}\")"
   ]
  },
  {
   "cell_type": "markdown",
   "metadata": {},
   "source": [
    "### Programming Challenge 3: Prime Factorization!\n",
    "\n",
    "Now for a tougher one! Write a Python function that takes a number and returns a list of its prime factors.\n",
    "\n",
    "**Hint:** You can start by trying to divide the number by the smallest prime (2). If it divides evenly, add 2 to your list of prime factors and divide your number by 2. Keep doing this until it no longer divides by 2. Then try the next prime (3), and so on."
   ]
  },
  {
   "cell_type": "code",
   "execution_count": 3,
   "metadata": {},
   "outputs": [
    {
     "name": "stdout",
     "output_type": "stream",
     "text": [
      "Prime factorization of 12: [2, 2, 3]\n",
      "Prime factorization of 30: [2, 3, 5]\n",
      "Prime factorization of 17: [17]\n",
      "Prime factorization of 84: [2, 2, 3, 7]\n",
      "Prime factorization of 1: []\n",
      "Prime factorization of 2: [2]\n"
     ]
    }
   ],
   "source": [
    "def get_prime_factorization(number):\n",
    "    factors = []\n",
    "    divisor = 2 # Start with the smallest prime number\n",
    "    temp_number = number\n",
    "\n",
    "    while divisor * divisor <= temp_number: # Optimization: only need to check up to sqrt(temp_number)\n",
    "        if temp_number % divisor == 0:\n",
    "            factors.append(divisor)\n",
    "            temp_number //= divisor # Use integer division\n",
    "        else:\n",
    "            divisor += 1\n",
    "    \n",
    "    if temp_number > 1: # If there's anything left, it must be a prime factor itself\n",
    "        factors.append(temp_number)\n",
    "        \n",
    "    if not factors and number > 1: # Handle case where the number itself is prime\n",
    "        return [number]\n",
    "    elif number <=1:\n",
    "        return [] # Or handle as an error/empty list for 0, 1, or negative numbers\n",
    "        \n",
    "    return factors\n",
    "\n",
    "# Test your function!\n",
    "print(f\"Prime factorization of 12: {get_prime_factorization(12)}\")   # Expected: [2, 2, 3]\n",
    "print(f\"Prime factorization of 30: {get_prime_factorization(30)}\")   # Expected: [2, 3, 5]\n",
    "print(f\"Prime factorization of 17: {get_prime_factorization(17)}\")   # Expected: [17]\n",
    "print(f\"Prime factorization of 84: {get_prime_factorization(84)}\")   # Expected: [2, 2, 3, 7]\n",
    "print(f\"Prime factorization of 1: {get_prime_factorization(1)}\")    # Expected: [] or specific handling\n",
    "print(f\"Prime factorization of 2: {get_prime_factorization(2)}\")    # Expected: [2]"
   ]
  },
  {
   "cell_type": "markdown",
   "metadata": {},
   "source": [
    "**The Big Deal About Prime Factorization:**\n",
    "Finding the prime factors of a *small* number is pretty easy for us (and computers). But finding the prime factors of a *really, really, REALLY* large number (like one with hundreds of digits) is incredibly difficult, even for the most powerful supercomputers!\n",
    "\n",
    "This difficulty is the secret ingredient that makes a lot of modern cryptography work!"
   ]
  },
  {
   "cell_type": "markdown",
   "metadata": {},
   "source": [
    "## Part 3: Public Key Encryption - Sending Secret Messages\n",
    "\n",
    "Imagine you want to send a secret message to your friend, but you're worried someone might intercept it. How can you make sure only your friend can read it?\n",
    "\n",
    "**Traditional (Symmetric) Encryption:**\n",
    "You could use a secret code (a \"key\") that both you and your friend know. You use the key to scramble (encrypt) your message, and your friend uses the *same* key to unscramble (decrypt) it. This is called **symmetric encryption** because the same key is used for both locking and unlocking.\n",
    "\n",
    "**The Problem:** How do you safely share that secret key with your friend in the first place? If someone intercepts the key, they can read all your messages!\n",
    "\n",
    "**Public Key (Asymmetric) Encryption to the Rescue!**\n",
    "\n",
    "This is where things get really clever. In public key encryption, everyone has **two keys**:\n",
    "\n",
    "1.  **A Public Key:** You can share this key with anyone! Shout it from the rooftops, post it online – it doesn't matter. This key is used for *encrypting* messages.\n",
    "2.  **A Private Key:** This key is kept absolutely secret! Only you should ever know your private key. This key is used for *decrypting* messages that were encrypted with your public key.\n",
    "\n",
    "**How it Works (Simplified):**\n",
    "\n",
    "1.  **Alice wants to send a secret message to Bob.**\n",
    "2.  Bob has a public key and a private key. He shares his **public key** with Alice (and anyone else).\n",
    "3.  Alice uses **Bob's public key** to encrypt her message. Now the message is scrambled.\n",
    "4.  Alice sends the scrambled message to Bob. Even if someone (let's call her Eve, the eavesdropper) intercepts it, she can't read it without Bob's private key.\n",
    "5.  Bob receives the scrambled message and uses his **secret private key** to decrypt it. Voila! He can read Alice's message.\n",
    "\n",
    "**The Magic:** A message encrypted with a public key can *only* be decrypted by the corresponding private key. And it's computationally very, very hard to figure out the private key even if you know the public key.\n",
    "\n",
    "**Where do prime numbers fit in?**\n",
    "The most famous public key encryption algorithm, **RSA** (named after its inventors Rivest, Shamir, and Adleman), relies heavily on prime numbers.\n",
    "\n",
    "Here's a super simplified idea of how RSA uses primes:\n",
    "\n",
    "1.  **Key Generation (Bob does this secretly):**\n",
    "    *   Bob chooses two very large, different prime numbers, let's call them `p` and `q`.\n",
    "    *   He multiplies them together: `n = p * q`. This number `n` becomes part of his public key.\n",
    "    *   He also does some other math involving `p` and `q` to create his public exponent `e` (also part of the public key) and his private exponent `d` (this is his private key).\n",
    "\n",
    "2.  **Public Key:** Bob's public key is (`n`, `e`). He shares this.\n",
    "3.  **Private Key:** Bob's private key is (`d`). He keeps this super secret.\n",
    "\n",
    "**Why it's secure:**\n",
    "Everyone knows `n` (because it's part of the public key). To break the encryption and find Bob's private key `d`, Eve the eavesdropper would need to figure out the original prime numbers `p` and `q` by factoring `n`. \n",
    "\n",
    "If `p` and `q` are extremely large (hundreds of digits long), factoring `n` is practically impossible with current technology! It would take even the fastest computers many, many years (like, longer than the age of the universe!).\n",
    "\n",
    "So, the difficulty of factoring large numbers (specifically, factoring a number that is the product of two large primes) is what makes RSA secure."
   ]
  },
  {
   "cell_type": "markdown",
   "metadata": {},
   "source": [
    "### Analogy: The Special Mailbox\n",
    "\n",
    "Think of Bob's public key as a special, open mailbox with a unique slot.\n",
    "*   Anyone (like Alice) can drop a message into this mailbox (encrypt with the public key).\n",
    "*   But only Bob has the special key (private key) to open the mailbox and read the messages.\n",
    "\n",
    "Even if you see the mailbox (public key) and know how it's built (the `n` value), you can't make a key to open it unless you can somehow break down its super-strong, prime-based components."
   ]
  },
  {
   "cell_type": "markdown",
   "metadata": {},
   "source": [
    "### Programming Challenge 4: A Tiny RSA-like Example (Conceptual)\n",
    "\n",
    "Actually implementing full RSA is quite complex and involves more advanced math (like modular arithmetic and Euler's totient function). However, we can simulate the *idea* of using primes to create a public part and keeping the primes secret.\n",
    "\n",
    "**Let's pretend:**\n",
    "*   You pick two small prime numbers, `p` and `q`.\n",
    "*   Your \"public part\" `n` is `p * q`.\n",
    "*   Your \"secret part\" is `p` and `q` themselves.\n",
    "\n",
    "If someone is given `n`, can they easily find your secret `p` and `q` if `n` is small? Yes. But if `n` was HUGE?\n",
    "\n",
    "This challenge is more about understanding the setup."
   ]
  },
  {
   "cell_type": "code",
   "execution_count": 4,
   "metadata": {},
   "outputs": [
    {
     "name": "stdout",
     "output_type": "stream",
     "text": [
      "Our first prime, p = 7\n",
      "Our second prime, q = 13\n",
      "Our 'public part' n = p * q = 91\n",
      "\n",
      "--- The Challenge for an Eavesdropper ---\n",
      "Eve the eavesdropper is given n = 91\n",
      "Eve needs to find the original p and q that multiply to make n.\n",
      "Eve factored n and found: 7 and 13\n",
      "\n",
      "--- Now imagine if p and q were HUGE! ---\n",
      "If p = 15485863 (a 8-digit prime)\n",
      "And q = 179424673 (a 9-digit prime)\n",
      "Then n = 2778545904897799 (a 16-digit number)\n",
      "Factoring this 'large_n' by hand or simple trial division would be much harder!\n",
      "Real RSA uses primes with hundreds of digits!\n"
     ]
    }
   ],
   "source": [
    "# Let's pick two small prime numbers\n",
    "p = 7  # This is a prime number\n",
    "q = 13 # This is also a prime number\n",
    "\n",
    "# Calculate 'n', which would be part of a public key\n",
    "n = p * q\n",
    "print(f\"Our first prime, p = {p}\")\n",
    "print(f\"Our second prime, q = {q}\")\n",
    "print(f\"Our 'public part' n = p * q = {n}\")\n",
    "\n",
    "print(\"\\n--- The Challenge for an Eavesdropper ---\")\n",
    "given_n = n \n",
    "print(f\"Eve the eavesdropper is given n = {given_n}\")\n",
    "print(\"Eve needs to find the original p and q that multiply to make n.\")\n",
    "\n",
    "# For small numbers, Eve can try factoring n\n",
    "# We can use our prime factorization function (or just find_factors for two factors)\n",
    "\n",
    "def find_two_factors_for_rsa_example(number_n):\n",
    "    # This is a simplified factor finder for this example\n",
    "    # It assumes n is a product of two primes\n",
    "    for i in range(2, int(number_n**0.5) + 1): # Check up to sqrt(n)\n",
    "        if number_n % i == 0:\n",
    "            factor1 = i\n",
    "            factor2 = number_n // i\n",
    "            # Let's quickly check if these factors are prime for our example\n",
    "            if is_prime(factor1) and is_prime(factor2):\n",
    "                 return factor1, factor2\n",
    "    return None, None # Should not happen if n is product of two primes\n",
    "\n",
    "found_p, found_q = find_two_factors_for_rsa_example(given_n)\n",
    "\n",
    "if found_p and found_q:\n",
    "    print(f\"Eve factored n and found: {found_p} and {found_q}\")\n",
    "    # Note: The order might be swapped, but that's okay for RSA's purpose.\n",
    "else:\n",
    "    print(f\"Eve couldn't easily factor n = {given_n} with this simple method (or it wasn't a product of two primes).\")\n",
    "\n",
    "print(\"\\n--- Now imagine if p and q were HUGE! ---\")\n",
    "# Example of very large (but still tiny for real RSA) primes:\n",
    "large_p = 15485863 # A prime number\n",
    "large_q = 179424673 # Another prime number\n",
    "large_n = large_p * large_q\n",
    "print(f\"If p = {large_p} (a {len(str(large_p))}-digit prime)\")\n",
    "print(f\"And q = {large_q} (a {len(str(large_q))}-digit prime)\")\n",
    "print(f\"Then n = {large_n} (a {len(str(large_n))}-digit number)\")\n",
    "print(\"Factoring this 'large_n' by hand or simple trial division would be much harder!\")\n",
    "print(\"Real RSA uses primes with hundreds of digits!\")"
   ]
  },
  {
   "cell_type": "markdown",
   "metadata": {},
   "source": [
    "**Important Note:** The actual encryption and decryption in RSA involve more math using `e` (public exponent) and `d` (private exponent) with something called **modular exponentiation**. We're not diving into that here, but the core security relies on the difficulty of factoring `n` back into `p` and `q`."
   ]
  },
  {
   "cell_type": "markdown",
   "metadata": {},
   "source": [
    "## Summary & What's Next?\n",
    "\n",
    "Wow, you've learned a lot!\n",
    "\n",
    "*   **Factoring** is breaking numbers into their multipliers.\n",
    "*   **Prime numbers** are special numbers with only two factors (1 and themselves) and are the building blocks for all other numbers.\n",
    "*   **Public Key Encryption** (like RSA) uses the incredible difficulty of factoring very large numbers (products of two large primes) to allow secure communication. You can share your public key with the world, but only your private key can decrypt messages sent to you.\n",
    "\n",
    "Cryptography is a huge and exciting field that combines math, computer science, and a bit of secret agent coolness! What we've seen is just the tip of the iceberg."
   ]
  },
  {
   "cell_type": "markdown",
   "metadata": {},
   "source": [
    "## Further Exploration & Links\n",
    "\n",
    "If you're curious to learn more, check out these resources:\n",
    "\n",
    "*   **Khan Academy - Prime Numbers:** https://www.khanacademy.org/computing/computer-science/cryptography/comp-number-theory/v/prime-numbers\n",
    "*   **Khan Academy - Introduction to Cryptography:** https://www.khanacademy.org/computing/computer-science/cryptography\n",
    "*   **MathsIsFun - Prime Factorization:** https://www.mathsisfun.com/prime-factorization.html\n",
    "*   **MathsIsFun - Public Key Cryptography:** https://www.mathsisfun.com/algebra/cryptography-public-key.html\n",
    "*   **Computerphile - RSA Encryption (more advanced but very good):** https://www.youtube.com/watch?v=wXB-V_Keiu8\n",
    "*   **HowStuffWorks - How Encryption Works:** https://computer.howstuffworks.com/encryption.htm\n",
    "\n",
    "**Challenge yourself further:**\n",
    "*   Can you write a program to find all prime numbers up to a certain limit (e.g., up to 100)? This is known as the Sieve of Eratosthenes.\n",
    "*   Research other types of ciphers, like the Caesar cipher or Vigenère cipher."
   ]
  }
 ],
 "metadata": {
  "kernelspec": {
   "display_name": "Python 3 (ipykernel)",
   "language": "python",
   "name": "python3"
  },
  "language_info": {
   "codemirror_mode": {
    "name": "ipython",
    "version": 3
   },
   "file_extension": ".py",
   "mimetype": "text/x-python",
   "name": "python",
   "nbconvert_exporter": "python",
   "pygments_lexer": "ipython3",
   "version": "3.10.13"
  }
 },
 "nbformat": 4,
 "nbformat_minor": 4
}
