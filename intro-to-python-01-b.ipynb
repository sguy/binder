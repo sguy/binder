{
 "cells": [
  {
   "cell_type": "markdown",
   "id": "notebook-b-intro",
   "metadata": {},
   "source": [
    "# Python Fundamentals: Variables, Data Types, and More! 🚀\n",
    "\n",
    "Welcome to the second part of our Python adventure! In the previous notebook, you got familiar with Jupyter Notebooks and how to use Markdown and Code cells.\n",
    "\n",
    "Now, we're going to dive into the Python programming language itself. We'll cover some of the most fundamental building blocks:\n",
    "*   **Variables:** How to store and label information.\n",
    "*   **Comments:** Writing notes in your code.\n",
    "*   **Data Types:** The different kinds of information Python can work with.\n",
    "*   **Understanding Execution:** What those numbers next to code cells mean.\n",
    "\n",
    "Let's get started!"
   ]
  },
  {
   "cell_type": "markdown",
   "id": "ec8fc8db",
   "metadata": {},
   "source": [
    "## Your First Steps in Python! 🐍\n",
    "\n",
    "Alright, let's start learning Python! Python is a popular programming language known for being relatively easy to read and write. It's used for everything from websites to games to science!\n",
    "\n",
    "Don't worry if you've never programmed before. We'll start with the basics."
   ]
  },
  {
   "cell_type": "markdown",
   "id": "python-comments-explanation",
   "metadata": {},
   "source": [
    "## Leaving Notes: Comments in Python 📝\n",
    "\n",
    "Sometimes, you want to write notes in your code that the computer should ignore. These are called **comments**. \n",
    "\n",
    "\n",
    "In Python, anything on a line that starts with a hash symbol (`#`) is a comment. Python will completely ignore it when running the code. "
   ]
  },
  {
   "cell_type": "code",
   "execution_count": null,
   "id": "9131897a",
   "metadata": {},
   "outputs": [],
   "source": [
    "# This is a Python comment. It won't affect the program.\n",
    "# print(\\\"This line is commented out, so it won't print.\\\")"
   ]
  },
  {
   "cell_type": "markdown",
   "id": "f3281047",
   "metadata": {},
   "source": [
    "\n",
    "**Why use comments?**\n",
    "*   **Explain your code:** Make it easier for yourself (and others!) to understand what a piece of code is doing, especially if it's complex or you're looking back at it after a long time.\n",
    "*   **Temporarily disable code:** If you want to stop a line of code from running without deleting it, you can \"comment it out.\""
   ]
  },
  {
   "cell_type": "markdown",
   "id": "mini-challenge-comments",
   "metadata": {},
   "source": [
    "### 🎯 Mini-Challenge: Add Your Own Comment!\n",
    "\n",
    "1.  Add a new **Code cell** below this one.\n",
    "2.  In the new code cell, write a comment that says something like: `# This is my first Python comment!`\n",
    "3.  On the next line, try printing your name: `print(\"Your Name Here\")`\n",
    "4.  Run the cell. You should only see your name printed, not the comment!"
   ]
  },
  {
   "cell_type": "markdown",
   "id": "90023aa5",
   "metadata": {},
   "source": [
    "## What is a Variable? 📦\n",
    "\n",
    "In programming, a **variable** is like a container or a labeled box where you can store information. You give the box a name (the variable name), and you can put stuff inside it (the value).\n",
    "\n",
    "For example, you could have a variable called `playerName` and store the name \"Sparky\" in it. Or a variable called `score` and store the number `100`."
   ]
  },
  {
   "cell_type": "code",
   "execution_count": null,
   "id": "74431371",
   "metadata": {},
   "outputs": [],
   "source": [
    "# Let's create a variable called 'message' and store some text in it.\n",
    "message = \"Hello, future programmer!\"\n",
    "\n",
    "# Now, let's see what's inside our 'message' box.\n",
    "# The 'print()' function displays things on the screen.\n",
    "print(message)"
   ]
  },
  {
   "cell_type": "markdown",
   "id": "important-note-assignment-operator",
   "metadata": {},
   "source": [
    "### ⚠️ Important Note: The Assignment Operator (`=`)\n",
    "\n",
    "In Python (and many other programming languages), the single equals sign (`=`) is called the **assignment operator**.\n",
    "\n",
    "It's crucial to understand that **`=` does NOT mean \"equals\" in the same way it does in mathematics.**\n",
    "*   In math, `x = 5` means that `x` and `5` are the same value.\n",
    "*   In Python, `x = 5` means \"**`x` is assigned the value `5`**\" or \"store the value `5` in the variable named `x`.\"\n",
    "\n",
    "Think of it as an arrow pointing from right to left: the value on the right is put into the variable on the left. We'll see later how Python checks if two things are actually equal (it uses `==`, two equals signs!). For now, just remember: a single `=` means \"assign this value.\""
   ]
  },
  {
   "cell_type": "markdown",
   "id": "pro-tip-variable-naming",
   "metadata": {},
   "source": [
    "### 🧠 Pro-Tip: Naming Your Variables Wisely\n",
    "\n",
    "Choosing good names for your variables makes your code much easier to read and understand. Here are some rules and best practices for naming variables in Python:\n",
    "\n",
    "**The Rules (You *must* follow these):**\n",
    "*   Variable names can only contain letters (a-z, A-Z), numbers (0-9), and the underscore character (`_`).\n",
    "*   They cannot start with a number. (e.g., `1stPlace` is not allowed, but `firstPlace` or `place1` is fine).\n",
    "*   Variable names are case-sensitive. This means `myVariable`, `MyVariable`, and `myvariable` are all different variables.\n",
    "*   You cannot use Python's reserved keywords as variable names (e.g., you can't name a variable `print`, `if`, `for`, `while`, etc., because these words have special meanings in Python).\n",
    "\n",
    "**Best Practices (Good ideas to follow):**\n",
    "*   **Be Descriptive:** Choose names that clearly indicate what the variable is storing. `userName` is better than `u` or `x`.\n",
    "*   **Use `snake_case` for Multi-Word Names:** This is the most common convention in Python. Separate words with underscores, and use all lowercase letters. For example: `player_score`, `item_list`, `first_name`.\n",
    "*   **Be Consistent:** Stick to one naming style throughout your project.\n",
    "*   **Avoid Single-Letter Names (Usually):** While `i`, `j`, `k` are sometimes used for simple loop counters, and `x`, `y`, `z` for coordinates, generally prefer more descriptive names.\n",
    "\n",
    "Good variable names are like good labels – they help you (and others) know what's inside without having to guess!"
   ]
  },
  {
   "cell_type": "markdown",
   "id": "mini-challenge-variables",
   "metadata": {},
   "source": [
    "### 🎯 Mini-Challenge: Your Own Variable!\n",
    "\n",
    "1.  Add a new **Code cell** below.\n",
    "2.  Create a variable to store your favorite color. Remember to choose a good variable name (e.g., `favorite_color`).\n",
    "3.  Assign your favorite color (as a string, e.g., `\"blue\"`) to this variable.\n",
    "4.  On the next line, use the `print()` function to display the value stored in your variable.\n",
    "5.  Run the cell to see your favorite color printed!"
   ]
  },
  {
   "cell_type": "markdown",
   "id": "43653741",
   "metadata": {},
   "source": [
    "## Basic Data Types in Python 💾\n",
    "\n",
    "Variables can hold different *types* of data. Here are some of the most common ones in Python:"
   ]
  },
  {
   "cell_type": "markdown",
   "id": "e8e250d3",
   "metadata": {},
   "source": [
    "### Integer (`int`)\n",
    "These are whole numbers (no decimal points).\n",
    "Examples: `7`, `-3`, `0`, `1000`"
   ]
  },
  {
   "cell_type": "code",
   "execution_count": null,
   "id": "2ef8e386",
   "metadata": {},
   "outputs": [],
   "source": [
    "my_age = 14\n",
    "number_of_apples = 5\n",
    "print(my_age) \n",
    "print(number_of_apples)"
   ]
  },
  {
   "cell_type": "markdown",
   "id": "tip-integer-underscores",
   "metadata": {},
   "source": [
    "#### 💡 Tip: Making Large Integers Readable\n",
    "\n",
    "When you're working with very large integers, it can be hard to read them quickly (e.g., `1000000000`). Python allows you to use underscores (`_`) as visual separators within numbers to make them more readable. Python simply ignores these underscores when it processes the number.\n",
    "\n",
    "For example:\n",
    "*   `population = 7_800_000_000` is easier to read than `population = 7800000000`.\n",
    "*   `big_number = 1_000_000` is the same as `1000000` to Python.\n",
    "\n",
    "This doesn't change the value of the number, just how you write it in your code!"
   ]
  },
  {
   "cell_type": "markdown",
   "id": "mini-challenge-numbers",
   "metadata": {},
   "source": [
    "### 🎯 Mini-Challenge: Number Fun!\n",
    "\n",
    "1.  In a new Code cell below:\n",
    "2.  Create a variable called `num_books_read` and assign it an integer value representing how many books you've read this year (make one up if you need to!).\n",
    "3.  Create another variable called `num_pages_per_book` and assign it an average number of pages per book (this can be a float, like `250.5`, or an integer).\n",
    "4.  Create a third variable called `total_pages_read` and assign it the result of multiplying `num_books_read` by `num_pages_per_book`.\n",
    "5.  Print out the value of `total_pages_read`.\n",
    "6.  Try using an underscore in a large number for practice, e.g., `world_population = 8_000_000_000`, and print it."
   ]
  },
  {
   "cell_type": "markdown",
   "id": "7786af07",
   "metadata": {},
   "source": [
    "### Float (`float`)\n",
    "These are numbers with decimal points.\n",
    "Examples: `3.14`, `-0.5`, `99.99`"
   ]
  },
  {
   "cell_type": "code",
   "execution_count": null,
   "id": "a004940c",
   "metadata": {},
   "outputs": [],
   "source": [
    "price_of_soda = 1.75\n",
    "pi_value = 3.14159 \n",
    "print(price_of_soda)\n",
    "print(pi_value)"
   ]
  },
  {
   "cell_type": "markdown",
   "id": "5cf704ca",
   "metadata": {},
   "source": [
    "### String (`str`)\n",
    "These are sequences of characters, basically text. You usually put strings inside single quotes (`'...'`) or double quotes (`\"...\"`).\n",
    "Examples: `'Hello'`, `\"Python is fun!\"`, `'123'` (this is text, not a number!)"
   ]
  },
  {
   "cell_type": "code",
   "execution_count": null,
   "id": "2663af38",
   "metadata": {},
   "outputs": [],
   "source": [
    "my_name = \"Alex\"\n",
    "favorite_food = 'pizza'\n",
    "print(my_name) \n",
    "print(favorite_food)"
   ]
  },
  {
   "cell_type": "markdown",
   "id": "pro-tip-f-strings",
   "metadata": {},
   "source": [
    "#### 🧠 Pro-Tip: Supercharging Strings with f-strings (Variable Interpolation)!\n",
    "\n",
    "Python has a really cool and easy way to put the values of variables directly inside your strings. This is called an **f-string** (formatted string literal), and it uses a technique called **variable interpolation**.\n",
    "\n",
    "**How it works:**\n",
    "1.  You start the string with the letter `f` right *before* the opening quote (e.g., `f\"...\"` or `f'...'`).\n",
    "2.  Inside the string, wherever you want to insert the value of a variable, you put the variable name inside curly braces `{}`.\n",
    "\n",
    "**Example:**\n",
    "Let's say you have a variable `player_name = \"Sparky\"` and `player_age = 10`.\n",
    "\n",
    "Instead of writing:\n",
    "```python\n",
    "# print(\"Player: \" + player_name + \", Age: \" + str(player_age)) # A bit clunky!\n",
    "```\n",
    "You can use an f-string:\n",
    "```python\n",
    "greeting = f\"Hello, {player_name}! You are {player_age} years old.\"\n",
    "print(greeting) # Output: Hello, Sparky! You are 10 years old.\n",
    "```\n",
    "Much cleaner, right? F-strings are very popular because they make creating dynamic text much more readable. Try creating a new code cell and experimenting with f-strings using the `my_name` and `my_age` variables from earlier!"
   ]
  },
  {
   "cell_type": "markdown",
   "id": "mini-challenge-fstrings",
   "metadata": {},
   "source": [
    "### 🎯 Mini-Challenge: f-string Power!\n",
    "\n",
    "1.  In a new Code cell:\n",
    "2.  Create a variable for your name (e.g., `my_name = \"YourName\"`).\n",
    "3.  Create a variable for your favorite hobby (e.g., `my_hobby = \"reading\"`).\n",
    "4.  Use an f-string to create a sentence that says something like: \"My name is [YourName] and I love [your hobby].\"\n",
    "5.  Print the resulting sentence."
   ]
  },
  {
   "cell_type": "markdown",
   "id": "3bca44bd",
   "metadata": {},
   "source": [
    "### Boolean (`bool`)\n",
    "These can only have two values: `True` or `False`. They are super important for making decisions in your code.\n",
    "*(Notice the capital 'T' and 'F'!)*"
   ]
  },
  {
   "cell_type": "code",
   "execution_count": null,
   "id": "3f7ae339",
   "metadata": {},
   "outputs": [],
   "source": [
    "is_raining = False\n",
    "is_sunny = True\n",
    "print(is_raining) \n",
    "print(is_sunny)"
   ]
  },
  {
   "cell_type": "markdown",
   "id": "pro-tip-syntax-highlighting",
   "metadata": {},
   "source": [
    "## 🧠 Pro-Tip: Understanding Syntax Highlighting\n",
    "\n",
    "Have you noticed how different parts of the Python code in the cells above have different colors? This is called **syntax highlighting**, and it's a super helpful feature of most code editors, including the one in Jupyter Notebooks (and Google Colab)!\n",
    "\n",
    "**What is it?**\n",
    "Syntax highlighting automatically colors different parts of your code—like variable names, numbers, text (strings), comments, and special Python keywords—based on what they are.\n",
    "\n",
    "**How does it help?**\n",
    "*   **Readability:** It makes code much easier to read and scan. Your eyes can quickly pick out different elements.\n",
    "*   **Spotting Errors:** Sometimes, if you type something incorrectly (like misspell a keyword or forget a quote for a string), the color might look different than you expect, giving you an early clue that something is wrong.\n",
    "*   **Understanding Structure:** It helps you visually distinguish between different components of the Python language.\n",
    "\n",
    "**Look Back and Notice:**\n",
    "Scroll back up to some of the code cells we've worked with. Pay attention to the colors:\n",
    "*   How are **variable names** (like `message`, `my_age`, `my_name`, `number_of_apples`) colored?\n",
    "*   What about **literal values** like numbers (`14`, `1.75`) and strings (`\"Hello, future programmer!\"`, `'pizza'`)? (Note: 'pizza' was in `favorite_food`)\n",
    "*   How does a **function call** like `print()` look different from a variable?\n",
    "*   Notice the distinct color for **comments** (lines starting with `#`).\n",
    "\n",
    "Getting used to these visual cues will make reading and writing Python code much more intuitive!"
   ]
  },
  {
   "cell_type": "markdown",
   "id": "execution-count-explanation",
   "metadata": {},
   "source": [
    "## Understanding Code Cell Execution 🔢\n",
    "\n",
    "When you have a **code cell**, you'll notice something like `In [ ]:` (or `[ ]:` in some interfaces) to its left. This is the **execution prompt**, and it tells you about the status of that code cell:\n",
    "\n",
    "*   `In [ ]:` (or just `[ ]:`): The empty square brackets mean this code cell **has not been run yet** in the current session (since the notebook was opened or the kernel was last restarted).\n",
    "*   `In [*]:` (or `[*]:`): If you see an asterisk inside the brackets, it means the cell **is currently running**. For very quick operations, you might not even see this, but for code that takes a few seconds or more, the asterisk will show.\n",
    "*   `In [1]:`, `In [2]:`, etc. (or `[1]:`, `[2]:`): Once a cell has finished running, the brackets will be filled with a **number**. This number indicates the **order** in which the code cells were run. `In [1]:` was the first code cell run, `In [2]:` was the second, and so on.\n",
    "\n",
    "**Why does the order matter?**\n",
    "\n",
    "Python code in a notebook often runs in a sequence. If you define a variable in one cell (say, `In [1]:`), you can then use that variable in a later cell (say, `In [2]:`). If you try to run the cell that *uses* the variable *before* the cell that *defines* it (or if the defining cell hasn't been run at all), you'll likely get an error because the variable won't exist yet!\n",
    "\n",
    "These numbers help you keep track of what's been run and in what order. This is very helpful for understanding the flow of your notebook and for debugging if things don't work as expected. If you run cells out of order, or re-run cells, the numbers will update to reflect the most recent execution sequence."
   ]
  },
  {
   "cell_type": "markdown",
   "id": "execution-count-example-intro",
   "metadata": {},
   "source": [
    "Try running the code cell below. Notice how the `In [ ]:` (or `[ ]:`) to its left changes. It might briefly show `In [*]:` (or `[*]:`) if the code takes a moment, and then it will show a number like `In [1]:` (or just `[1]`). If you've run other cells already, the number will be higher. If you run this cell again, the number will update to be the latest execution count."
   ]
  },
  {
   "cell_type": "code",
   "execution_count": null,
   "id": "execution-count-example-code",
   "metadata": {},
   "outputs": [],
   "source": [
    "# This is a simple code cell for demonstration.\n",
    "example_value = 10 + 5\n",
    "print(f\"The example value is: {example_value}\")\n",
    "# Now, look at the execution number to the left of this cell!"
   ]
  },
  {
   "cell_type": "markdown",
   "id": "final-challenge-intro",
   "metadata": {},
   "source": [
    "## 🎯 Final Challenge: Meet and Greet!\n",
    "\n",
    "Time to put several concepts together! In this challenge, you'll define variables for yourself and a friend, and then print a message combining this information.\n",
    "\n",
    "**Your Task:**\n",
    "\n",
    "1.  Create variables for:\n",
    "    *   Your name (e.g., `my_name`)\n",
    "    *   Your age (e.g., `my_age`)\n",
    "    *   Your friend's name (e.g., `friend_name`)\n",
    "    *   Your friend's age (e.g., `friend_age`)\n",
    "2.  Calculate the sum of your ages and store it in a new variable (e.g., `total_age`).\n",
    "3.  Using an f-string, print a message that looks like this (replace the bracketed parts with your variable values):\n",
    "    `Hello - my name is [Your Name], my friend's name is [Friend's Name], and the sum of our ages is [Total Age].`\n",
    "\n",
    "Use the code cell below to complete the challenge. I've added some comments to guide you!"
   ]
  },
  {
   "cell_type": "code",
   "execution_count": null,
   "id": "final-challenge-code",
   "metadata": {},
   "outputs": [],
   "source": [
    "# 1. Define your variables here:\n",
    "# my_name = ...\n",
    "# my_age = ...\n",
    "# friend_name = ...\n",
    "# friend_age = ...\n",
    "\n",
    "# 2. Calculate the sum of your ages:\n",
    "# total_age = ...\n",
    "\n",
    "# 3. Create and print your f-string message:\n",
    "# print(f\"...\")"
   ]
  },
  {
   "cell_type": "markdown",
   "id": "notebook-b-summary-and-next-steps",
   "metadata": {},
   "source": [
    "## ✨ Part 2 Wrap-up & What's Next! ✨\n",
    "\n",
    "Fantastic work! You've now taken your first real steps into Python programming. In this notebook, you've learned about:\n",
    "\n",
    "*   **Comments:** How to write notes in your code for yourself and others.\n",
    "*   **Variables:** What they are, how to assign values to them using `=`, and best practices for naming them.\n",
    "*   **Basic Data Types:** You've been introduced to `integers`, `floats`, `strings`, and `booleans` – the fundamental kinds of information Python works with.\n",
    "*   **f-strings:** A powerful way to format strings and include variable values within them.\n",
    "*   **Syntax Highlighting & Code Cell Execution:** Understanding how your code editor helps you and how Jupyter Notebooks run your code.\n",
    "\n",
    "You're building a great toolkit of Python knowledge! Remember to practice by re-running cells, trying out the mini-challenges, and experimenting with your own ideas.\n",
    "\n",
    "### Next Up: `intro-to-python-01-c.ipynb` 🚀\n",
    "\n",
    "In our next notebook, `intro-to-python-01-c.ipynb`, we'll continue our Python journey by exploring:\n",
    "*   **Basic Math Operations:** Performing calculations with numbers.\n",
    "*   **Working with Strings:** More ways to manipulate and combine text.\n",
    "*   **Getting User Input:** How to make your programs interactive by asking the user for information.\n",
    "*   And more fun with Python!\n",
    "\n",
    "Keep up the excellent effort, and get ready for more coding adventures!"
   ]
  }
 ],
 "metadata": {
  "kernelspec": {
   "display_name": "Python 3 (ipykernel)",
   "language": "python",
   "name": "python3"
  },
  "language_info": {
   "codemirror_mode": {
    "name": "ipython",
    "version": 3
   },
   "file_extension": ".py",
   "mimetype": "text/x-python",
   "name": "python",
   "nbconvert_exporter": "python",
   "pygments_lexer": "ipython3",
   "version": "3.10.17"
  }
 },
 "nbformat": 4,
 "nbformat_minor": 5
}
