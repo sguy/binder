{
 "cells": [
  {
   "cell_type": "markdown",
   "id": "d93c9d95",
   "metadata": {},
   "source": [
    "# Welcome to the World of Coding! 🚀\n",
    "\n",
    "Hey there, future coder! Get ready to dive into the super cool world of Jupyter Notebooks and Python. It might seem like a lot at first, but we'll take it step-by-step. Think of this as your first adventure into making computers do awesome things!"
   ]
  },
  {
   "cell_type": "markdown",
   "id": "e3a3a988",
   "metadata": {},
   "source": [
    "## 1. What are Jupyter Notebooks Anyway?\n",
    "\n",
    "You are already familiar with keeping a notebooks to keep track of notes in class or experiments in a lab.  It's a great habit to keep track of what you are thinking, things you have tried, and observations you have made.   Notebooks can contain text, pictures, plots, or anything else you can think of that fits on paper. \n",
    "\n",
    "<img src=\"images/lab-notebook.png\" width=\"600\">"
   ]
  },
  {
   "cell_type": "markdown",
   "id": "72878d12",
   "metadata": {},
   "source": [
    "\n",
    "\n",
    "Imagine a magical notebook where you can write notes, explanations, and even run live computer code, all in one place! That's kind of what a Jupyter Notebook is.\n",
    "\n",
    "**Key Ideas:**\n",
    "*   **Interactive:** You can write code and see the results immediately.\n",
    "*   **Cells:** Notebooks are made of \"cells.\" \n",
    "    *   **Markdown cells** (like this one!) are for text, headings, images, and explaining things.\n",
    "    *   **Code cells** are where you write and run your Python code.\n",
    "*   **Storytelling with Code:** They're great for learning, experimenting, and showing others how your code works."
   ]
  },
  {
   "cell_type": "markdown",
   "id": "markdown-basics-intro",
   "metadata": {},
   "source": [
    "### Understanding Markdown Cells 📝\n",
    "\n",
    "You're reading this in a **Markdown cell** right now! Markdown is a simple way to write formatted text. It's used all over the internet (like on Reddit, GitHub, and many forums) and, of course, in Jupyter Notebooks to create rich text descriptions, headings, lists, and more.\n",
    "\n",
    "**Why use Markdown?**\n",
    "*   **Easy to Read, Easy to Write:** The syntax is designed to be as readable as possible, even in its raw form.\n",
    "*   **Focus on Content:** You can focus on writing your explanations without worrying too much about complex formatting codes.\n",
    "*   **Structure Your Notebook:** Use headings to organize your thoughts and code, lists to itemize points, and bold/italics to emphasize text."
   ]
  },
  {
   "cell_type": "markdown",
   "id": "editing-markdown-cells",
   "metadata": {},
   "source": [
    "**Editing a Markdown Cell:**\n",
    "\n",
    "To see the \"raw\" Markdown code and make changes to a Markdown cell (like this one, or the ones above):\n",
    "1.  **Double-click** on the cell. This will put it into \"edit mode.\"\n",
    "2.  You'll see the Markdown syntax (e.g., `#` for headings, `*` for bullet points).\n",
    "3.  Make your changes.\n",
    "4.  To see your formatted text again, **run the cell** (just like you run a code cell: click the Run button ▶️ or press `Shift + Enter`).\n",
    "\n",
    "Go ahead, try double-clicking this cell to see its Markdown source, then run it again!"
   ]
  },
  {
   "cell_type": "markdown",
   "id": "7c07480c",
   "metadata": {},
   "source": [
    "**How to Run a Cell:**\n",
    "\n",
    "To make a code cell do its thing (or to make a markdown cell look pretty), you need to \"run\" it.\n",
    "*   Click on the cell you want to run.\n",
    "*   Then, click the \"Run\" button in the toolbar (it often looks like a play symbol ▶️).\n",
    "*   Or, use a keyboard shortcut: `Shift + Enter` (this runs the current cell and moves to the next one) or `Ctrl + Enter` (this runs the current cell and stays on it)."
   ]
  },
  {
   "cell_type": "markdown",
   "id": "markdown-challenge-intro",
   "metadata": {},
   "source": [
    "**Mini-Challenge: Your First Markdown!**\n",
    "\n",
    "Let's put this into practice!\n",
    "1.  **Add a new cell** below this one (remember how? Use the `+` button or `Insert > Insert Cell Below`).\n",
    "2.  By default, it will probably be a \"Code\" cell. **Change its type to \"Markdown\"** using the dropdown menu in the toolbar.\n",
    "3.  In your new Markdown cell, try to create a **bulleted list** of three of your favorite fruits. \n",
    "    *   Hint: To make a bullet point, you can start a line with an asterisk (`*`) or a hyphen (`-`) followed by a space.\n",
    "4.  **Run your Markdown cell** to see it formatted nicely!\n",
    "\n",
    "For example, it might look something like this in edit mode:\n",
    "```markdown\n",
    "* Apple\n",
    "* Banana\n",
    "* Cherry\n",
    "```"
   ]
  },
  {
   "cell_type": "markdown",
   "id": "code-cells-intro",
   "metadata": {},
   "source": [
    "### Diving into Code Cells 💻\n",
    "\n",
    "Alright, now for the really exciting part: **Code Cells**! This is where you'll write and run your Python code.\n",
    "\n",
    "When you run a code cell, the Python interpreter executes the code within it. The output of the code cell, if any, will appear directly below it. There are two main ways output is generated:\n",
    "\n",
    "1.  **The value of the last expression:** If the very last line of your code cell is a piece of data or an expression that results in a value (like a number, some text, or a calculation), Jupyter Notebooks will automatically display that value as the cell's output.\n",
    "2.  **Using the `print()` function:** You can explicitly tell Python to display something using the built-in `print()` function. Anything you pass to `print()` will be shown as output.\n",
    "\n",
    "Let's look at a few examples. Remember to run each cell to see what happens!"
   ]
  },
  {
   "cell_type": "markdown",
   "id": "example-code-cell-intro",
   "metadata": {},
   "source": [
    "Remember how to run a cell? Click on it, then press the Run button (▶️) or use `Shift + Enter`."
   ]
  },
  {
   "cell_type": "code",
   "execution_count": null,
   "id": "code-cell-example-arithmetic",
   "metadata": {},
   "outputs": [],
   "source": [
    "# Example 1: A simple arithmetic operation\n",
    "1 + 2"
   ]
  },
  {
   "cell_type": "markdown",
   "id": "code-cell-output-last-value-arithmetic",
   "metadata": {},
   "source": [
    "See that `3` below the cell? Because `1 + 2` was the last (and only) line in the code cell, and it evaluates to `3`, Jupyter displayed it."
   ]
  },
  {
   "cell_type": "code",
   "execution_count": null,
   "id": "code-cell-example-string",
   "metadata": {},
   "outputs": [],
   "source": [
    "# Example 2: Just a piece of text (a string)\n",
    "\"My name is Python\""
   ]
  },
  {
   "cell_type": "markdown",
   "id": "code-cell-output-last-value-string",
   "metadata": {},
   "source": [
    "Similarly, the text \"My name is Python\" appeared as output because it was the last (and only) item in the cell."
   ]
  },
  {
   "cell_type": "code",
   "execution_count": null,
   "id": "code-cell-example-print",
   "metadata": {},
   "outputs": [],
   "source": [
    "# Example 3: Using the print() function\n",
    "print(\"Hello world!\")\n",
    "print(10 * 5)"
   ]
  },
  {
   "cell_type": "markdown",
   "id": "code-cell-output-print",
   "metadata": {},
   "source": [
    "In this case, we used the `print()` function. Notice two things:\n",
    "*   Both \"Hello world!\" and the result of `10 * 5` (which is `50`) were printed. The `print()` function explicitly tells Python to show output.\n",
    "*   If a cell has `print()` statements, the \"last expression\" rule doesn't apply in the same way for automatically displaying an additional value unless that last expression itself is not part of a `print()` statement and is the very last thing."
   ]
  },
  {
   "cell_type": "markdown",
   "id": "code-cells-encourage-interaction",
   "metadata": {},
   "source": [
    "**Your Turn to Experiment!**\n",
    "\n",
    "*   Try running each of the code cells above.\n",
    "*   Go back and change the numbers in the first example (e.g., `100 - 50`). Run it again.\n",
    "*   Change the text in the second example. Run it again.\n",
    "*   Add another `print()` statement to the third example. What happens?\n",
    "*   What if you have a calculation *after* a `print()` statement in the same cell, like this?\n",
    "    ```python\n",
    "    print(\"Calculating...\")\n",
    "    25 / 5\n",
    "    ```\n",
    "    Try adding a new code cell and typing that in. What's the output?\n",
    "\n",
    "Playing around is the best way to learn!"
   ]
  },
  {
   "cell_type": "markdown",
   "id": "predict-output-tip",
   "metadata": {},
   "source": [
    "**🧠 Pro Tip: Predict Before You Run!**\n",
    "\n",
    "As you go through this notebook (and any coding you do!), try to get into the habit of **guessing what the output will be *before* you run a code cell.** \n",
    "\n",
    "*   Read the code carefully.\n",
    "*   Think about what each line is telling the computer to do.\n",
    "*   Make a mental (or even written!) note of what you expect to see.\n",
    "\n",
    "This little habit will supercharge your learning! If your guess is right, it builds confidence. If it's different, it's a great chance to figure out *why* and learn something new. Don't worry about being wrong – that's part of the process!"
   ]
  },
  {
   "cell_type": "markdown",
   "id": "add-experiment-cells",
   "metadata": {},
   "source": [
    "### Adding More Cells & Experimenting! 🧪\n",
    "\n",
    "Jupyter Notebooks are designed for exploration! You'll often want to add new cells to try out new code snippets or write down more notes.\n",
    "\n",
    "**How to Add a New Cell:**\n",
    "\n",
    "*   **Using the Toolbar:** Look for a `+` (plus) button in the toolbar at the top of your notebook. Clicking this usually adds a new **code cell** below your currently selected cell.\n",
    "*   **Using the Menu:** You can also go to the `Insert` menu at the top and choose `Insert Cell Above` or `Insert Cell Below`.\n",
    "\n",
    "**Changing Cell Type:**\n",
    "\n",
    "Once you add a new cell, it will likely be a **code cell** by default. If you want to write text (like this explanation!), you need to change its type to **Markdown**.\n",
    "*   Select the cell you want to change.\n",
    "*   In the toolbar, you'll see a dropdown menu that probably says \"Code\". Click it and choose \"Markdown\".\n",
    "\n",
    "**Don't Be Afraid to Experiment!**\n",
    "\n",
    "This is your playground! \n",
    "*   **Try things out:** Add new cells, type in some code (even if you're just guessing!), and run it to see what happens.\n",
    "*   **You can't easily break it:** The worst that usually happens is you might get an error message (which is a learning opportunity!) or your notebook might look a bit messy.\n",
    "*   **It's okay to make mistakes:** That's how we learn! \n",
    "*   **Clean up:** You can always delete cells you don't want (select the cell, then go to `Edit > Delete Cells` or use the scissors icon ✂️ in the toolbar). If things get really confusing, you can even start a fresh notebook (`File > New notebook`).\n",
    "\n",
    "So go ahead, add a new cell below this one and try typing something!"
   ]
  },
  {
   "cell_type": "markdown",
   "id": "62b4194e",
   "metadata": {},
   "source": [
    "## 2. Jupyter Notebooks in Google Colab\n",
    "\n",
    "Google Colab (short for Colaboratory) is a fantastic, free tool that lets you use Jupyter Notebooks right in your web browser. \n",
    "\n",
    "**Why is Colab Cool?**\n",
    "*   **Free!** Yep, you heard that right.\n",
    "*   **No Setup Needed:** You don't have to install any complicated software on your computer. It all runs in the cloud (on Google's computers).\n",
    "*   **Easy to Share:** You can share your notebooks with friends or teachers easily, just like a Google Doc.\n",
    "\n",
    "**Getting Started with Colab:**\n",
    "1.  Go to colab.research.google.com.\n",
    "2.  You might see a popup. You can choose to open an existing notebook or create a new one (`File > New notebook`).\n",
    "3.  That's it! You'll have a brand new Jupyter Notebook ready to go."
   ]
  },
  {
   "cell_type": "markdown",
   "id": "save-to-google-drive",
   "metadata": {},
   "source": [
    "### Saving Your Notebook to Google Drive 💾\n",
    "\n",
    "Once you start working on a notebook in Colab, especially if you've opened a shared one (like this one!) or want to keep your own copy with your changes, you'll want to save it to your own Google Drive.\n",
    "\n",
    "**How to Save:**\n",
    "\n",
    "1.  **Go to `File` in the menu bar** at the top-left of the Colab interface.\n",
    "2.  You'll see a few save options:\n",
    "    *   **`Save a copy in Drive`**: This is usually what you want! It creates a new copy of the current notebook in your Google Drive. Colab will often automatically put it in a folder called \"Colab Notebooks\" in the main part of your Drive.\n",
    "    *   `Save`: If you've already saved a copy to your Drive, or if you created a new notebook directly in Colab, this will save the current changes to that file in your Drive.\n",
    "\n",
    "**Organizing Your Notebooks:**\n",
    "\n",
    "*   **Create a 'Notebooks' Folder:** It's a super good idea to create a dedicated folder in your Google Drive, maybe named `My Python Notebooks` or just `Notebooks`, to keep all your Colab projects organized. \n",
    "*   **Move Your Saved Notebook:** After you \"Save a copy in Drive,\" you can go to your Google Drive (drive.google.com), find the notebook (it might be in the \"Colab Notebooks\" folder or in the main \"My Drive\" area), and then move it into your preferred folder just like you would any other file in Google Drive.\n",
    "\n",
    "**Working with Notebooks from Google Drive:**\n",
    "\n",
    "*   **Saving Your Changes:** Once a notebook is in your Google Drive, any changes you make and `Save` (or that Colab auto-saves) will be updated in your Drive version. You own this copy!\n",
    "*   **Opening from Drive:** You can open your `.ipynb` (Jupyter Notebook) files directly from Google Drive! Just find the file in your Drive, right-click on it (or double-click), and choose `Open with > Google Colaboratory`.\n",
    "\n",
    "This way, all your hard work and experiments are safely stored in your own space and easy to find!"
   ]
  },
  {
   "cell_type": "markdown",
   "id": "turn-off-ai",
   "metadata": {},
   "source": [
    "**💡 Colab Tip: AI Assistant**\n",
    "\n",
    "By default Google Colab includes an AI coding assistant. While these tools can be very powerful, when you're just starting to learn Python, it is more helpful to figure things out on your own or with the direct guidance of your learning materials.\n",
    "\n",
    "Focus on understanding the basics first, and then you can explore how AI assistants can help you be more productive later on!\n",
    "\n",
    "To turn off the assistant, go to the `Tools -> Settings` menu, then select `AI Assistance` and uncheck all of the boxes.\n",
    "\n",
    "<img src=\"images/turn-off-AI-menu.png\" width=\"300\">\n",
    "<p>\n",
    "<img src=\"images/turn-off-AI.png\" width=\"400\">"
   ]
  },
  {
   "cell_type": "markdown",
   "id": "part-a-summary",
   "metadata": {},
   "source": [
    "## ✨ Part 1 Wrap-up! ✨\n",
    "\n",
    "Great job making it through the first part of our Python adventure! You've learned a lot already:\n",
    "\n",
    "*   **What Jupyter Notebooks are:** Your interactive coding and note-taking environment.\n",
    "*   **Markdown Cells:** How to write and format text, create lists, and edit these cells by double-clicking and running them.\n",
    "*   **Code Cells:** How to run Python code and see its output (either from the last line's value or from `print()` statements).\n",
    "*   **Running Cells:** Using the Run button or `Shift + Enter`.\n",
    "*   **The \"Predict Before You Run\" Tip:** A super helpful habit for learning!\n",
    "*   **Adding and Managing Cells:** Creating new cells and changing their types.\n",
    "*   **Google Colab:** A quick look at how to use Jupyter Notebooks online and save your work to Google Drive.\n",
    "\n",
    "You're building a solid foundation. Remember, the best way to learn is by doing, so don't hesitate to go back, re-run cells, change things, and experiment!\n",
    "\n",
    "In the next notebook, `intro-to-python-01-b.ipynb`, we'll start diving deeper into Python itself, learning about variables, data types, and more. Keep up the great work! 🚀"
   ]
  }
 ],
 "metadata": {
  "kernelspec": {
   "display_name": "Python 3 (ipykernel)",
   "language": "python",
   "name": "python3"
  },
  "language_info": {
   "codemirror_mode": {
    "name": "ipython",
    "version": 3
   },
   "file_extension": ".py",
   "mimetype": "text/x-python",
   "name": "python",
   "nbconvert_exporter": "python",
   "pygments_lexer": "ipython3",
   "version": "3.10.17"
  }
 },
 "nbformat": 4,
 "nbformat_minor": 5
}
