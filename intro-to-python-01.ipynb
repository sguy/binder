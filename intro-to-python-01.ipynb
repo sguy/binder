{
 "cells": [
  {
   "cell_type": "markdown",
   "metadata": {},
   "source": [
    "# Welcome to the World of Coding! 🚀\n",
    "\n",
    "Hey there, future coder! Get ready to dive into the super cool world of Jupyter Notebooks and Python. It might seem like a lot at first, but we'll take it step-by-step. Think of this as your first adventure into making computers do awesome things!"
   ]
  },
  {
   "cell_type": "markdown",
   "metadata": {},
   "source": [
    "## 1. What are Jupyter Notebooks Anyway?\n",
    "\n",
    "Imagine a magical notebook where you can write notes, explanations, and even run live computer code, all in one place! That's kind of what a Jupyter Notebook is.\n",
    "\n",
    "**Key Ideas:**\n",
    "*   **Interactive:** You can write code and see the results immediately.\n",
    "*   **Cells:** Notebooks are made of \"cells.\" \n",
    "    *   **Markdown cells** (like this one!) are for text, headings, images, and explaining things.\n",
    "    *   **Code cells** are where you write and run your Python code.\n",
    "*   **Storytelling with Code:** They're great for learning, experimenting, and showing others how your code works."
   ]
  },
  {
   "cell_type": "markdown",
   "metadata": {},
   "source": [
    "**How to Run a Cell:**\n",
    "\n",
    "To make a code cell do its thing (or to make a markdown cell look pretty), you need to \"run\" it.\n",
    "*   Click on the cell you want to run.\n",
    "*   Then, click the \"Run\" button in the toolbar (it often looks like a play symbol ▶️).\n",
    "*   Or, use a keyboard shortcut: `Shift + Enter` (this runs the current cell and moves to the next one) or `Ctrl + Enter` (this runs the current cell and stays on it)."
   ]
  },
  {
   "cell_type": "markdown",
   "metadata": {},
   "source": [
    "## 2. Jupyter Notebooks in Google Colab\n",
    "\n",
    "Google Colab (short for Colaboratory) is a fantastic, free tool that lets you use Jupyter Notebooks right in your web browser. \n",
    "\n",
    "**Why is Colab Cool?**\n",
    "*   **Free!** Yep, you heard that right.\n",
    "*   **No Setup Needed:** You don't have to install any complicated software on your computer. It all runs in the cloud (on Google's computers).\n",
    "*   **Easy to Share:** You can share your notebooks with friends or teachers easily, just like a Google Doc.\n",
    "\n",
    "**Getting Started with Colab:**\n",
    "1.  Go to colab.research.google.com.\n",
    "2.  You might see a popup. You can choose to open an existing notebook or create a new one (`File > New notebook`).\n",
    "3.  That's it! You'll have a brand new Jupyter Notebook ready to go."
   ]
  },
  {
   "cell_type": "markdown",
   "metadata": {},
   "source": [
    "## 3. Your First Steps in Python! 🐍\n",
    "\n",
    "Alright, let's start learning Python! Python is a popular programming language known for being relatively easy to read and write. It's used for everything from websites to games to science!\n",
    "\n",
    "Don't worry if you've never programmed before. We'll start with the basics."
   ]
  },
  {
   "cell_type": "markdown",
   "metadata": {},
   "source": [
    "### a) What is a Variable? (Like a Labeled Box 📦)\n",
    "\n",
    "In programming, a **variable** is like a container or a labeled box where you can store information. You give the box a name (the variable name), and you can put stuff inside it (the value).\n",
    "\n",
    "For example, you could have a variable called `playerName` and store the name \"Sparky\" in it. Or a variable called `score` and store the number `100`."
   ]
  },
  {
   "cell_type": "code",
   "execution_count": null,
   "metadata": {},
   "outputs": [],
   "source": [
    "# Let's create a variable called 'message' and store some text in it.\n",
    "message = \"Hello, future programmer!\"\n",
    "\n",
    "# Now, let's see what's inside our 'message' box.\n",
    "# The 'print()' function displays things on the screen.\n",
    "print(message)"
   ]
  },
  {
   "cell_type": "markdown",
   "metadata": {},
   "source": [
    "### b) Basic Data Types (Different Kinds of Information)\n",
    "\n",
    "Variables can hold different *types* of data. Here are some of the most common ones in Python:"
   ]
  },
  {
   "cell_type": "markdown",
   "metadata": {},
   "source": [
    "#### Integer (`int`)\n",
    "These are whole numbers (no decimal points).\n",
    "Examples: `7`, `-3`, `0`, `1000`"
   ]
  },
  {
   "cell_type": "code",
   "execution_count": null,
   "metadata": {},
   "outputs": [],
   "source": [
    "myAge = 14\n",
    "numberOfApples = 5\n",
    "print(myAge)\n",
    "print(numberOfApples)"
   ]
  },
  {
   "cell_type": "markdown",
   "metadata": {},
   "source": [
    "#### Float (`float`)\n",
    "These are numbers with decimal points.\n",
    "Examples: `3.14`, `-0.5`, `99.99`"
   ]
  },
  {
   "cell_type": "code",
   "execution_count": null,
   "metadata": {},
   "outputs": [],
   "source": [
    "priceOfSoda = 1.75\n",
    "pi_value = 3.14159\n",
    "print(priceOfSoda)\n",
    "print(pi_value)"
   ]
  },
  {
   "cell_type": "markdown",
   "metadata": {},
   "source": [
    "#### String (`str`)\n",
    "These are sequences of characters, basically text. You usually put strings inside single quotes (`'...'`) or double quotes (`\"...\"`).\n",
    "Examples: `'Hello'`, `\"Python is fun!\"`, `'123'` (this is text, not a number!)"
   ]
  },
  {
   "cell_type": "code",
   "execution_count": null,
   "metadata": {},
   "outputs": [],
   "source": [
    "myName = \"Alex\"\n",
    "favoriteFood = 'pizza'\n",
    "print(myName)\n",
    "print(favoriteFood)"
   ]
  },
  {
   "cell_type": "markdown",
   "metadata": {},
   "source": [
    "#### Boolean (`bool`)\n",
    "These can only have two values: `True` or `False`. They are super important for making decisions in your code.\n",
    "*(Notice the capital 'T' and 'F'!)*"
   ]
  },
  {
   "cell_type": "code",
   "execution_count": null,
   "metadata": {},
   "outputs": [],
   "source": [
    "isRaining = False\n",
    "isSunny = True\n",
    "print(isRaining)\n",
    "print(isSunny)"
   ]
  },
  {
   "cell_type": "markdown",
   "metadata": {},
   "source": [
    "#### Datetime (`datetime`)\n",
    "This one is a bit more advanced, but it's for working with dates and times! To use it, you usually need to `import` a special toolkit called `datetime`.\n",
    "Examples: `June 7, 2024, 10:30 AM`"
   ]
  },
  {
   "cell_type": "code",
   "execution_count": null,
   "metadata": {},
   "outputs": [],
   "source": [
    "import datetime # This line brings in the datetime toolkit\n",
    "\n",
    "today = datetime.date.today()\n",
    "now = datetime.datetime.now()\n",
    "\n",
    "print(today)\n",
    "print(now)"
   ]
  },
  {
   "cell_type": "markdown",
   "metadata": {},
   "source": [
    "### c) What is a Function? (A Reusable Recipe 📜)\n",
    "\n",
    "A **function** is like a mini-program or a reusable recipe within your main program. You give it a name, and it performs a specific task. \n",
    "\n",
    "**Why use functions?**\n",
    "*   **Organize Code:** They break down big problems into smaller, manageable pieces.\n",
    "*   **Reuse Code:** Write it once, use it many times! No need to copy-paste the same lines of code over and over.\n",
    "\n",
    "Functions can take **inputs** (called arguments or parameters) and can give back an **output** (called a return value)."
   ]
  },
  {
   "cell_type": "code",
   "execution_count": null,
   "metadata": {},
   "outputs": [],
   "source": [
    "# Let's define a simple function that greets someone.\n",
    "def greet(name):  # 'name' is an input (parameter)\n",
    "  greeting_message = \"Hello, \" + name + \"! Welcome!\"\n",
    "  return greeting_message # This is the output\n",
    "\n",
    "# Now let's use (or \"call\") our function:\n",
    "person1_greeting = greet(\"Maria\")\n",
    "person2_greeting = greet(\"Tom\")\n",
    "\n",
    "print(person1_greeting)\n",
    "print(person2_greeting)"
   ]
  },
  {
   "cell_type": "markdown",
   "metadata": {},
   "source": [
    "### d) Talking to Your Computer: The `print()` Function\n",
    "\n",
    "We've already used it a few times! The `print()` function is one of the most basic and useful tools in Python. It displays values, messages, or the contents of variables on your screen.\n",
    "\n",
    "You can print almost anything: strings, numbers, variables, even the results of calculations."
   ]
  },
  {
   "cell_type": "code",
   "execution_count": null,
   "metadata": {},
   "outputs": [],
   "source": [
    "print(\"This is a direct message.\")\n",
    "\n",
    "age = 10\n",
    "print(age)\n",
    "\n",
    "print(\"My age is:\", age) # You can print multiple things, separated by commas\n",
    "\n",
    "print(5 + 3) # Print the result of a calculation"
   ]
  },
  {
   "cell_type": "markdown",
   "metadata": {},
   "source": [
    "### e) Fancier Printing with f-strings!\n",
    "\n",
    "Sometimes, you want to mix text and variables in your print statements. You can do this with commas (like we saw above), but there's an even cooler way called **f-strings** (formatted string literals).\n",
    "\n",
    "You make an f-string by putting an `f` before the opening quote (`f\"...\"` or `f'...'`). Then, inside the string, you can put your variable names inside curly braces `{}`."
   ]
  },
  {
   "cell_type": "code",
   "execution_count": null,
   "metadata": {},
   "outputs": [],
   "source": [
    "studentName = \"Leo\"\n",
    "score = 95\n",
    "\n",
    "# Using an f-string to print a nice message\n",
    "print(f\"Congratulations {studentName}! You scored {score} points.\")\n",
    "\n",
    "item = \"apple\"\n",
    "quantity = 3\n",
    "print(f\"I have {quantity} {item}s.\")"
   ]
  },
  {
   "cell_type": "markdown",
   "metadata": {},
   "source": [
    "### f) Python as a Calculator: Basic Arithmetic 🧮\n",
    "\n",
    "Python can do math! Here are the basic arithmetic operators:\n",
    "*   `+`  Addition\n",
    "*   `-`  Subtraction\n",
    "*   `*`  Multiplication\n",
    "*   `/`  Division (this always gives a float, even if the result is a whole number, like `4 / 2` is `2.0`)\n",
    "*   `**` Exponentiation (raise to the power of, e.g., `2 ** 3` is 2*2*2 = 8)\n",
    "*   `%`  Modulus (gives the remainder of a division, e.g., `10 % 3` is `1` because 10 divided by 3 is 3 with a remainder of 1)\n",
    "*   `//` Floor Division (divides and rounds down to the nearest whole number, e.g., `10 // 3` is `3`)"
   ]
  },
  {
   "cell_type": "code",
   "execution_count": null,
   "metadata": {},
   "outputs": [],
   "source": [
    "sum_result = 10 + 5\n",
    "difference_result = 20 - 7\n",
    "product_result = 6 * 4\n",
    "quotient_result = 10 / 2\n",
    "\n",
    "print(f\"10 + 5 = {sum_result}\")\n",
    "print(f\"20 - 7 = {difference_result}\")\n",
    "print(f\"6 * 4 = {product_result}\")\n",
    "print(f\"10 / 2 = {quotient_result}\")\n",
    "\n",
    "power_result = 3 ** 4  # 3 to the power of 4\n",
    "remainder_result = 17 % 5\n",
    "floor_div_result = 17 // 5\n",
    "print(f\"3 to the power of 4 = {power_result}\")\n",
    "print(f\"Remainder of 17 divided by 5 = {remainder_result}\")\n",
    "print(f\"Floor division of 17 by 5 = {floor_div_result}\")"
   ]
  },
  {
   "cell_type": "markdown",
   "metadata": {},
   "source": [
    "**Order of Operations (PEMDAS/BODMAS)**\n",
    "\n",
    "Python follows the standard order of operations, just like in math class:\n",
    "1.  **P**arentheses `()`\n",
    "2.  **E**xponents `**`\n",
    "3.  **M**ultiplication `*` and **D**ivision `/` (from left to right)\n",
    "4.  **A**ddition `+` and **S**ubtraction `-` (from left to right)"
   ]
  },
  {
   "cell_type": "code",
   "execution_count": null,
   "metadata": {},
   "outputs": [],
   "source": [
    "result1 = 5 + 2 * 3   # Multiplication first (2*3=6), then addition (5+6=11)\n",
    "print(f\"5 + 2 * 3 = {result1}\")\n",
    "\n",
    "result2 = (5 + 2) * 3 # Parentheses first (5+2=7), then multiplication (7*3=21)\n",
    "print(f\"(5 + 2) * 3 = {result2}\")"
   ]
  },
  {
   "cell_type": "markdown",
   "metadata": {},
   "source": [
    "## 4. Let's Try Some Examples!\n",
    "\n",
    "Okay, theory is great, but practice is where the fun really begins! Let's use what we've learned."
   ]
  },
  {
   "cell_type": "markdown",
   "metadata": {},
   "source": [
    "### a) Temperature Converter 🌡️\n",
    "\n",
    "Let's write code to convert temperatures between Fahrenheit (°F) and Celsius (°C)."
   ]
  },
  {
   "cell_type": "markdown",
   "metadata": {},
   "source": [
    "**Fahrenheit to Celsius Formula:**\n",
    "°C = (°F - 32) * 5/9"
   ]
  },
  {
   "cell_type": "code",
   "execution_count": null,
   "metadata": {},
   "outputs": [],
   "source": [
    "temp_fahrenheit = 68 # Let's say it's 68°F\n",
    "\n",
    "# Apply the formula\n",
    "temp_celsius = (temp_fahrenheit - 32) * 5/9\n",
    "\n",
    "print(f\"{temp_fahrenheit}°F is equal to {temp_celsius}°C\")"
   ]
  },
  {
   "cell_type": "markdown",
   "metadata": {},
   "source": [
    "**Celsius to Fahrenheit Formula:**\n",
    "°F = (°C * 9/5) + 32"
   ]
  },
  {
   "cell_type": "code",
   "execution_count": null,
   "metadata": {},
   "outputs": [],
   "source": [
    "temp_celsius_2 = 25 # Let's say it's 25°C\n",
    "\n",
    "# Apply the formula\n",
    "temp_fahrenheit_2 = (temp_celsius_2 * 9/5) + 32\n",
    "\n",
    "print(f\"{temp_celsius_2}°C is equal to {temp_fahrenheit_2}°F\")"
   ]
  },
  {
   "cell_type": "markdown",
   "metadata": {},
   "source": [
    "**Challenge:** Can you turn these conversions into functions?"
   ]
  },
  {
   "cell_type": "code",
   "execution_count": null,
   "metadata": {},
   "outputs": [],
   "source": [
    "def fahrenheit_to_celsius(f_temp):\n",
    "  c_temp = (f_temp - 32) * 5/9\n",
    "  return c_temp\n",
    "\n",
    "def celsius_to_fahrenheit(c_temp):\n",
    "  f_temp = (c_temp * 9/5) + 32\n",
    "  return f_temp\n",
    "\n",
    "# Test our functions\n",
    "boiling_point_f = 212\n",
    "boiling_point_c = fahrenheit_to_celsius(boiling_point_f)\n",
    "print(f\"{boiling_point_f}°F is {boiling_point_c}°C (boiling point of water)\")\n",
    "\n",
    "freezing_point_c = 0\n",
    "freezing_point_f = celsius_to_fahrenheit(freezing_point_c)\n",
    "print(f\"{freezing_point_c}°C is {freezing_point_f}°F (freezing point of water)\")"
   ]
  },
  {
   "cell_type": "markdown",
   "metadata": {},
   "source": [
    "### b) Calculate the Area of a Rectangle\n",
    "\n",
    "Remember from math class how to find the area of a rectangle?"
   ]
  },
  {
   "cell_type": "markdown",
   "metadata": {},
   "source": [
    "**Formula:**\n",
    "Area = Length × Width"
   ]
  },
  {
   "cell_type": "code",
   "execution_count": null,
   "metadata": {},
   "outputs": [],
   "source": [
    "length = 10 # units (e.g., cm, inches)\n",
    "width = 5   # units\n",
    "\n",
    "area = length * width\n",
    "\n",
    "print(f\"A rectangle with length {length} and width {width} has an area of {area}.\")"
   ]
  },
  {
   "cell_type": "markdown",
   "metadata": {},
   "source": [
    "**Challenge:** Can you make a function to calculate the area of any rectangle?"
   ]
  },
  {
   "cell_type": "code",
   "execution_count": null,
   "metadata": {},
   "outputs": [],
   "source": [
    "def calculate_rectangle_area(rect_length, rect_width):\n",
    "  calculated_area = rect_length * rect_width\n",
    "  return calculated_area\n",
    "\n",
    "# Test the function\n",
    "area1 = calculate_rectangle_area(7, 3)\n",
    "print(f\"Area of a 7x3 rectangle is: {area1}\")\n",
    "\n",
    "area2 = calculate_rectangle_area(12.5, 4)\n",
    "print(f\"Area of a 12.5x4 rectangle is: {area2}\")"
   ]
  },
  {
   "cell_type": "markdown",
   "metadata": {},
   "source": [
    "## 🎉 Congratulations! 🎉\n",
    "\n",
    "You've taken your first big steps into Jupyter Notebooks and Python programming! You've learned about:\n",
    "*   What Jupyter Notebooks and Google Colab are.\n",
    "*   Variables (storing info).\n",
    "*   Basic data types (`int`, `float`, `str`, `bool`).\n",
    "*   Functions (reusable code recipes).\n",
    "*   Printing things to the screen with `print()` and f-strings.\n",
    "*   Basic math operations.\n",
    "\n",
    "This is just the beginning. There's a whole universe of cool things you can do with coding. Keep practicing, keep experimenting, and most importantly, have fun!\n",
    "\n",
    "**What's next?**\n",
    "*   Try changing the values in the code cells and running them again to see what happens.\n",
    "*   Think of other simple calculations or tasks and try to write Python code for them.\n",
    "*   Explore more Python tutorials online!"
   ]
  }
 ],
 "metadata": {
  "kernelspec": {
   "display_name": "Python 3",
   "language": "python",
   "name": "python3"
  },
  "language_info": {
   "codemirror_mode": {
    "name": "ipython",
    "version": 3
   },
   "file_extension": ".py",
   "mimetype": "text/x-python",
   "name": "python",
   "nbconvert_exporter": "python",
   "pygments_lexer": "ipython3",
   "version": "3.10.0"
  }
 },
 "nbformat": 4,
 "nbformat_minor": 5
}

