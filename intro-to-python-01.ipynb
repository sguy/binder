{
 "cells": [
  {
   "cell_type": "markdown",
   "id": "d93c9d95",
   "metadata": {},
   "source": [
    "# Welcome to the World of Coding! 🚀\n",
    "\n",
    "Hey there, future coder! Get ready to dive into the super cool world of Jupyter Notebooks and Python. It might seem like a lot at first, but we'll take it step-by-step. Think of this as your first adventure into making computers do awesome things!"
   ]
  },
  {
   "cell_type": "markdown",
   "id": "e3a3a988",
   "metadata": {},
   "source": [
    "## 1. What are Jupyter Notebooks Anyway?\n",
    "\n",
    "Imagine a magical notebook where you can write notes, explanations, and even run live computer code, all in one place! That's kind of what a Jupyter Notebook is.\n",
    "\n",
    "**Key Ideas:**\n",
    "*   **Interactive:** You can write code and see the results immediately.\n",
    "*   **Cells:** Notebooks are made of \"cells.\" \n",
    "    *   **Markdown cells** (like this one!) are for text, headings, images, and explaining things.\n",
    "    *   **Code cells** are where you write and run your Python code.\n",
    "*   **Storytelling with Code:** They're great for learning, experimenting, and showing others how your code works."
   ]
  },
  {
   "cell_type": "markdown",
   "id": "example-code-cell-intro",
   "metadata": {},
   "source": [
    "Let's see a code cell in action! The cell below contains a simple Python instruction. Remember how to run it? Click on it, then press the Run button (▶️) or use `Shift + Enter`."
   ]
  },
  {
   "cell_type": "code",
   "execution_count": null,
   "id": "simple-code-cell-example",
   "metadata": {},
   "outputs": [],
   "source": [
    "print(\"Hello from a Python code cell! If you run this, I will appear below.\")"
   ]
  },
  {
   "cell_type": "markdown",
   "id": "example-code-cell-outro",
   "metadata": {},
   "source": [
    "See? When you ran the cell above, Python executed the `print()` command, and the text appeared as output directly below the code cell. That's the interactive part! You wrote code, and it did something right away."
   ]
  },
  {
   "cell_type": "markdown",
   "id": "predict-output-tip",
   "metadata": {},
   "source": [
    "**🧠 Pro Tip: Predict Before You Run!**\n",
    "\n",
    "As you go through this notebook (and any coding you do!), try to get into the habit of **guessing what the output will be *before* you run a code cell.** \n",
    "\n",
    "*   Read the code carefully.\n",
    "*   Think about what each line is telling the computer to do.\n",
    "*   Make a mental (or even written!) note of what you expect to see.\n",
    "\n",
    "This little habit will supercharge your learning! If your guess is right, it builds confidence. If it's different, it's a great chance to figure out *why* and learn something new. Don't worry about being wrong – that's part of the process!"
   ]
  },
  {
   "cell_type": "markdown",
   "id": "7c07480c",
   "metadata": {},
   "source": [
    "**How to Run a Cell:**\n",
    "\n",
    "To make a code cell do its thing (or to make a markdown cell look pretty), you need to \"run\" it.\n",
    "*   Click on the cell you want to run.\n",
    "*   Then, click the \"Run\" button in the toolbar (it often looks like a play symbol ▶️).\n",
    "*   Or, use a keyboard shortcut: `Shift + Enter` (this runs the current cell and moves to the next one) or `Ctrl + Enter` (this runs the current cell and stays on it)."
   ]
  },
  {
   "cell_type": "markdown",
   "id": "execution-count-explanation",
   "metadata": {},
   "source": [
    "### What's That Number `In [ ]:` Next to Code Cells?\n",
    "\n",
    "When you have a **code cell**, you'll notice something like `In [ ]:` (or `[ ]:` in some interfaces) to its left. This is the **execution prompt**, and it tells you about the status of that code cell:\n",
    "\n",
    "*   `In [ ]:` (or just `[ ]:`): The empty square brackets mean this code cell **has not been run yet** in the current session (since the notebook was opened or the kernel was last restarted).\n",
    "*   `In [*]:` (or `[*]:`): If you see an asterisk inside the brackets, it means the cell **is currently running**. For very quick operations, you might not even see this, but for code that takes a few seconds or more, the asterisk will show.\n",
    "*   `In [1]:`, `In [2]:`, etc. (or `[1]:`, `[2]:`): Once a cell has finished running, the brackets will be filled with a **number**. This number indicates the **order** in which the code cells were run. `In [1]:` was the first code cell run, `In [2]:` was the second, and so on.\n",
    "\n",
    "**Why does the order matter?**\n",
    "\n",
    "Python code in a notebook often runs in a sequence. If you define a variable in one cell (say, `In [1]:`), you can then use that variable in a later cell (say, `In [2]:`). If you try to run the cell that *uses* the variable *before* the cell that *defines* it (or if the defining cell hasn't been run at all), you'll likely get an error because the variable won't exist yet!\n",
    "\n",
    "These numbers help you keep track of what's been run and in what order. This is very helpful for understanding the flow of your notebook and for debugging if things don't work as expected. If you run cells out of order, or re-run cells, the numbers will update to reflect the most recent execution sequence."
   ]
  },
  {
   "cell_type": "markdown",
   "id": "execution-count-example-intro",
   "metadata": {},
   "source": [
    "Try running the code cell below. Notice how the `In [ ]:` (or `[ ]:`) to its left changes. It might briefly show `In [*]:` (or `[*]:`) if the code takes a moment, and then it will show a number like `In [1]:` (or just `[1]`). If you've run other cells already, the number will be higher. If you run this cell again, the number will update to be the latest execution count."
   ]
  },
  {
   "cell_type": "code",
   "execution_count": null,
   "id": "execution-count-example-code",
   "metadata": {},
   "outputs": [],
   "source": [
    "# This is a simple code cell for demonstration.\n",
    "example_value = 10 + 5\n",
    "print(f\"The example value is: {example_value}\")\n",
    "# Now, look at the execution number to the left of this cell!"
   ]
  },
  {
   "cell_type": "markdown",
   "id": "add-experiment-cells",
   "metadata": {},
   "source": [
    "### Adding More Cells & Experimenting! 🧪\n",
    "\n",
    "Jupyter Notebooks are designed for exploration! You'll often want to add new cells to try out new code snippets or write down more notes.\n",
    "\n",
    "**How to Add a New Cell:**\n",
    "\n",
    "*   **Using the Toolbar:** Look for a `+` (plus) button in the toolbar at the top of your notebook. Clicking this usually adds a new **code cell** below your currently selected cell.\n",
    "*   **Using the Menu:** You can also go to the `Insert` menu at the top and choose `Insert Cell Above` or `Insert Cell Below`.\n",
    "\n",
    "**Changing Cell Type:**\n",
    "\n",
    "Once you add a new cell, it will likely be a **code cell** by default. If you want to write text (like this explanation!), you need to change its type to **Markdown**.\n",
    "*   Select the cell you want to change.\n",
    "*   In the toolbar, you'll see a dropdown menu that probably says \"Code\". Click it and choose \"Markdown\".\n",
    "\n",
    "**Don't Be Afraid to Experiment!**\n",
    "\n",
    "This is your playground! \n",
    "*   **Try things out:** Add new cells, type in some code (even if you're just guessing!), and run it to see what happens.\n",
    "*   **You can't easily break it:** The worst that usually happens is you might get an error message (which is a learning opportunity!) or your notebook might look a bit messy.\n",
    "*   **It's okay to make mistakes:** That's how we learn! \n",
    "*   **Clean up:** You can always delete cells you don't want (select the cell, then go to `Edit > Delete Cells` or use the scissors icon ✂️ in the toolbar). If things get really confusing, you can even start a fresh notebook (`File > New notebook`).\n",
    "\n",
    "So go ahead, add a new cell below this one and try typing something!"
   ]
  },
  {
   "cell_type": "markdown",
   "id": "62b4194e",
   "metadata": {},
   "source": [
    "## 2. Jupyter Notebooks in Google Colab\n",
    "\n",
    "Google Colab (short for Colaboratory) is a fantastic, free tool that lets you use Jupyter Notebooks right in your web browser. \n",
    "\n",
    "**Why is Colab Cool?**\n",
    "*   **Free!** Yep, you heard that right.\n",
    "*   **No Setup Needed:** You don't have to install any complicated software on your computer. It all runs in the cloud (on Google's computers).\n",
    "*   **Easy to Share:** You can share your notebooks with friends or teachers easily, just like a Google Doc.\n",
    "\n",
    "**Getting Started with Colab:**\n",
    "1.  Go to colab.research.google.com.\n",
    "2.  You might see a popup. You can choose to open an existing notebook or create a new one (`File > New notebook`).\n",
    "3.  That's it! You'll have a brand new Jupyter Notebook ready to go."
   ]
  },
  {
   "cell_type": "markdown",
   "id": "save-to-google-drive",
   "metadata": {},
   "source": [
    "### Saving Your Notebook to Google Drive 💾\n",
    "\n",
    "Once you start working on a notebook in Colab, especially if you've opened a shared one (like this one!) or want to keep your own copy with your changes, you'll want to save it to your own Google Drive.\n",
    "\n",
    "**How to Save:**\n",
    "\n",
    "1.  **Go to `File` in the menu bar** at the top-left of the Colab interface.\n",
    "2.  You'll see a few save options:\n",
    "    *   **`Save a copy in Drive`**: This is usually what you want! It creates a new copy of the current notebook in your Google Drive. Colab will often automatically put it in a folder called \"Colab Notebooks\" in the main part of your Drive.\n",
    "    *   `Save`: If you've already saved a copy to your Drive, or if you created a new notebook directly in Colab, this will save the current changes to that file in your Drive.\n",
    "\n",
    "**Organizing Your Notebooks:**\n",
    "\n",
    "*   **Create a 'Notebooks' Folder:** It's a super good idea to create a dedicated folder in your Google Drive, maybe named `My Python Notebooks` or just `Notebooks`, to keep all your Colab projects organized. \n",
    "*   **Move Your Saved Notebook:** After you \"Save a copy in Drive,\" you can go to your Google Drive (drive.google.com), find the notebook (it might be in the \"Colab Notebooks\" folder or in the main \"My Drive\" area), and then move it into your preferred folder just like you would any other file in Google Drive.\n",
    "\n",
    "**Working with Notebooks from Google Drive:**\n",
    "\n",
    "*   **Saving Your Changes:** Once a notebook is in your Google Drive, any changes you make and `Save` (or that Colab auto-saves) will be updated in your Drive version. You own this copy!\n",
    "*   **Opening from Drive:** You can open your `.ipynb` (Jupyter Notebook) files directly from Google Drive! Just find the file in your Drive, right-click on it (or double-click), and choose `Open with > Google Colaboratory`.\n",
    "\n",
    "This way, all your hard work and experiments are safely stored in your own space and easy to find!"
   ]
  },
  {
   "cell_type": "markdown",
   "id": "ec8fc8db",
   "metadata": {},
   "source": [
    "## 3. Your First Steps in Python! 🐍\n",
    "\n",
    "Alright, let's start learning Python! Python is a popular programming language known for being relatively easy to read and write. It's used for everything from websites to games to science!\n",
    "\n",
    "Don't worry if you've never programmed before. We'll start with the basics."
   ]
  },
  {
   "cell_type": "markdown",
   "id": "90023aa5",
   "metadata": {},
   "source": [
    "### a) What is a Variable? (Like a Labeled Box 📦)\n",
    "\n",
    "In programming, a **variable** is like a container or a labeled box where you can store information. You give the box a name (the variable name), and you can put stuff inside it (the value).\n",
    "\n",
    "For example, you could have a variable called `playerName` and store the name \"Sparky\" in it. Or a variable called `score` and store the number `100`."
   ]
  },
  {
   "cell_type": "code",
   "execution_count": null,
   "id": "74431371",
   "metadata": {},
   "outputs": [],
   "source": [
    "# Let's create a variable called 'message' and store some text in it.\n",
    "message = \"Hello, future programmer!\"\n",
    "\n",
    "# Now, let's see what's inside our 'message' box.\n",
    "# The 'print()' function displays things on the screen.\n",
    "print(message)"
   ]
  },
  {
   "cell_type": "markdown",
   "id": "python-comments-explanation",
   "metadata": {},
   "source": [
    "### b) Leaving Notes: Comments in Python\n",
    "\n",
    "Sometimes, you want to write notes in your code that the computer should ignore. These are called **comments**. \n",
    "\n",
    "**Why use comments?**\n",
    "*   **Explain your code:** Make it easier for yourself (and others!) to understand what a piece of code is doing, especially if it's complex or you're looking back at it after a long time.\n",
    "*   **Temporarily disable code:** If you want to stop a line of code from running without deleting it, you can \"comment it out.\"\n",
    "\n",
    "In Python, anything on a line that starts with a hash symbol (`#`) is a comment. Python will completely ignore it when running the code. You've already seen some in the code cell above!"
   ]
  },
  {
   "cell_type": "markdown",
   "id": "43653741",
   "metadata": {},
   "source": [
    "### b) Basic Data Types (Different Kinds of Information)\n",
    "\n",
    "Variables can hold different *types* of data. Here are some of the most common ones in Python:"
   ]
  },
  {
   "cell_type": "markdown",
   "id": "e8e250d3",
   "metadata": {},
   "source": [
    "#### Integer (`int`)\n",
    "These are whole numbers (no decimal points).\n",
    "Examples: `7`, `-3`, `0`, `1000`"
   ]
  },
  {
   "cell_type": "code",
   "execution_count": null,
   "id": "2ef8e386",
   "metadata": {},
   "outputs": [],
   "source": [
    "myAge = 14\n",
    "numberOfApples = 5\n",
    "print(myAge)\n",
    "print(numberOfApples)"
   ]
  },
  {
   "cell_type": "markdown",
   "id": "7786af07",
   "metadata": {},
   "source": [
    "#### Float (`float`)\n",
    "These are numbers with decimal points.\n",
    "Examples: `3.14`, `-0.5`, `99.99`"
   ]
  },
  {
   "cell_type": "code",
   "execution_count": null,
   "id": "a004940c",
   "metadata": {},
   "outputs": [],
   "source": [
    "priceOfSoda = 1.75\n",
    "pi_value = 3.14159\n",
    "print(priceOfSoda)\n",
    "print(pi_value)"
   ]
  },
  {
   "cell_type": "markdown",
   "id": "5cf704ca",
   "metadata": {},
   "source": [
    "#### String (`str`)\n",
    "These are sequences of characters, basically text. You usually put strings inside single quotes (`'...'`) or double quotes (`\"...\"`).\n",
    "Examples: `'Hello'`, `\"Python is fun!\"`, `'123'` (this is text, not a number!)"
   ]
  },
  {
   "cell_type": "code",
   "execution_count": null,
   "id": "2663af38",
   "metadata": {},
   "outputs": [],
   "source": [
    "myName = \"Alex\"\n",
    "favoriteFood = 'pizza'\n",
    "print(myName)\n",
    "print(favoriteFood)"
   ]
  },
  {
   "cell_type": "markdown",
   "id": "3bca44bd",
   "metadata": {},
   "source": [
    "#### Boolean (`bool`)\n",
    "These can only have two values: `True` or `False`. They are super important for making decisions in your code.\n",
    "*(Notice the capital 'T' and 'F'!)*"
   ]
  },
  {
   "cell_type": "code",
   "execution_count": null,
   "id": "3f7ae339",
   "metadata": {},
   "outputs": [],
   "source": [
    "isRaining = False\n",
    "isSunny = True\n",
    "print(isRaining)\n",
    "print(isSunny)"
   ]
  },
  {
   "cell_type": "markdown",
   "id": "2d5e7f05",
   "metadata": {},
   "source": [
    "#### Datetime (`datetime`)\n",
    "This one is a bit more advanced, but it's for working with dates and times! To use it, you usually need to `import` a special toolkit called `datetime`.\n",
    "Examples: `June 7, 2024, 10:30 AM`"
   ]
  },
  {
   "cell_type": "code",
   "execution_count": null,
   "id": "42c7f95f",
   "metadata": {},
   "outputs": [],
   "source": [
    "import datetime # This line brings in the datetime toolkit\n",
    "\n",
    "today = datetime.date.today()\n",
    "now = datetime.datetime.now()\n",
    "\n",
    "print(today)\n",
    "print(now)"
   ]
  },
  {
   "cell_type": "markdown",
   "id": "a7666190",
   "metadata": {},
   "source": [
    "### c) What is a Function? (A Reusable Recipe 📜)\n",
    "\n",
    "A **function** is like a mini-program or a reusable recipe within your main program. You give it a name, and it performs a specific task. \n",
    "\n",
    "**Why use functions?**\n",
    "*   **Organize Code:** They break down big problems into smaller, manageable pieces.\n",
    "*   **Reuse Code:** Write it once, use it many times! No need to copy-paste the same lines of code over and over.\n",
    "\n",
    "Functions can take **inputs** (called arguments or parameters) and can give back an **output** (called a return value)."
   ]
  },
  {
   "cell_type": "code",
   "execution_count": null,
   "id": "c64e02be",
   "metadata": {},
   "outputs": [],
   "source": [
    "# Let's define a simple function that greets someone.\n",
    "def greet(name):  # 'name' is an input (parameter)\n",
    "  greeting_message = \"Hello, \" + name + \"! Welcome!\"\n",
    "  return greeting_message # This is the output\n",
    "\n",
    "# Now let's use (or \"call\") our function:\n",
    "person1_greeting = greet(\"Maria\")\n",
    "person2_greeting = greet(\"Tom\")\n",
    "\n",
    "print(person1_greeting)\n",
    "print(person2_greeting)"
   ]
  },
  {
   "cell_type": "markdown",
   "id": "add9060f",
   "metadata": {},
   "source": [
    "### d) Talking to Your Computer: The `print()` Function\n",
    "\n",
    "We've already used it a few times! The `print()` function is one of the most basic and useful tools in Python. It displays values, messages, or the contents of variables on your screen.\n",
    "\n",
    "You can print almost anything: strings, numbers, variables, even the results of calculations."
   ]
  },
  {
   "cell_type": "code",
   "execution_count": null,
   "id": "ea190162",
   "metadata": {},
   "outputs": [],
   "source": [
    "print(\"This is a direct message.\")\n",
    "\n",
    "age = 10\n",
    "print(age)\n",
    "\n",
    "print(\"My age is:\", age) # You can print multiple things, separated by commas\n",
    "\n",
    "print(5 + 3) # Print the result of a calculation"
   ]
  },
  {
   "cell_type": "markdown",
   "id": "adf7d3dd",
   "metadata": {},
   "source": [
    "### e) Fancier Printing with f-strings!\n",
    "\n",
    "Sometimes, you want to mix text and variables in your print statements. You can do this with commas (like we saw above), but there's an even cooler way called **f-strings** (formatted string literals).\n",
    "\n",
    "You make an f-string by putting an `f` before the opening quote (`f\"...\"` or `f'...'`). Then, inside the string, you can put your variable names inside curly braces `{}`."
   ]
  },
  {
   "cell_type": "code",
   "execution_count": null,
   "id": "f69d1389",
   "metadata": {},
   "outputs": [],
   "source": [
    "studentName = \"Leo\"\n",
    "score = 95\n",
    "\n",
    "# Using an f-string to print a nice message\n",
    "print(f\"Congratulations {studentName}! You scored {score} points.\")\n",
    "\n",
    "item = \"apple\"\n",
    "quantity = 3\n",
    "print(f\"I have {quantity} {item}s.\")"
   ]
  },
  {
   "cell_type": "markdown",
   "id": "16704473",
   "metadata": {},
   "source": [
    "### f) Python as a Calculator: Basic Arithmetic 🧮\n",
    "\n",
    "Python can do math! Here are the basic arithmetic operators:\n",
    "*   `+`  Addition\n",
    "*   `-`  Subtraction\n",
    "*   `*`  Multiplication\n",
    "*   `/`  Division (this always gives a float, even if the result is a whole number, like `4 / 2` is `2.0`)\n",
    "*   `**` Exponentiation (raise to the power of, e.g., `2 ** 3` is 2*2*2 = 8)\n",
    "*   `%`  Modulus (gives the remainder of a division, e.g., `10 % 3` is `1` because 10 divided by 3 is 3 with a remainder of 1)\n",
    "*   `//` Floor Division (divides and rounds down to the nearest whole number, e.g., `10 // 3` is `3`)"
   ]
  },
  {
   "cell_type": "code",
   "execution_count": null,
   "id": "352fc8c3",
   "metadata": {},
   "outputs": [],
   "source": [
    "sum_result = 10 + 5\n",
    "difference_result = 20 - 7\n",
    "product_result = 6 * 4\n",
    "quotient_result = 10 / 2\n",
    "\n",
    "print(f\"10 + 5 = {sum_result}\")\n",
    "print(f\"20 - 7 = {difference_result}\")\n",
    "print(f\"6 * 4 = {product_result}\")\n",
    "print(f\"10 / 2 = {quotient_result}\")\n",
    "\n",
    "power_result = 3 ** 4  # 3 to the power of 4\n",
    "remainder_result = 17 % 5\n",
    "floor_div_result = 17 // 5\n",
    "print(f\"3 to the power of 4 = {power_result}\")\n",
    "print(f\"Remainder of 17 divided by 5 = {remainder_result}\")\n",
    "print(f\"Floor division of 17 by 5 = {floor_div_result}\")"
   ]
  },
  {
   "cell_type": "markdown",
   "id": "267a6ce2",
   "metadata": {},
   "source": [
    "**Order of Operations (PEMDAS/BODMAS)**\n",
    "\n",
    "Python follows the standard order of operations, just like in math class:\n",
    "1.  **P**arentheses `()`\n",
    "2.  **E**xponents `**`\n",
    "3.  **M**ultiplication `*` and **D**ivision `/` (from left to right)\n",
    "4.  **A**ddition `+` and **S**ubtraction `-` (from left to right)"
   ]
  },
  {
   "cell_type": "code",
   "execution_count": null,
   "id": "f29b993f",
   "metadata": {},
   "outputs": [],
   "source": [
    "result1 = 5 + 2 * 3   # Multiplication first (2*3=6), then addition (5+6=11)\n",
    "print(f\"5 + 2 * 3 = {result1}\")\n",
    "\n",
    "result2 = (5 + 2) * 3 # Parentheses first (5+2=7), then multiplication (7*3=21)\n",
    "print(f\"(5 + 2) * 3 = {result2}\")"
   ]
  },
  {
   "cell_type": "markdown",
   "id": "c8886c75",
   "metadata": {},
   "source": [
    "## 4. Let's Try Some Examples!\n",
    "\n",
    "Okay, theory is great, but practice is where the fun really begins! Let's use what we've learned."
   ]
  },
  {
   "cell_type": "markdown",
   "id": "3ce8e910",
   "metadata": {},
   "source": [
    "### a) Temperature Converter 🌡️\n",
    "\n",
    "Let's write code to convert temperatures between Fahrenheit (°F) and Celsius (°C)."
   ]
  },
  {
   "cell_type": "markdown",
   "id": "eda4858e",
   "metadata": {},
   "source": [
    "**Fahrenheit to Celsius Formula:**\n",
    "°C = (°F - 32) * 5/9"
   ]
  },
  {
   "cell_type": "code",
   "execution_count": null,
   "id": "c5b851c8",
   "metadata": {},
   "outputs": [],
   "source": [
    "temp_fahrenheit = 68 # Let's say it's 68°F\n",
    "\n",
    "# Apply the formula\n",
    "temp_celsius = (temp_fahrenheit - 32) * 5/9\n",
    "\n",
    "print(f\"{temp_fahrenheit}°F is equal to {temp_celsius}°C\")"
   ]
  },
  {
   "cell_type": "markdown",
   "id": "2b1b0979",
   "metadata": {},
   "source": [
    "**Celsius to Fahrenheit Formula:**\n",
    "°F = (°C * 9/5) + 32"
   ]
  },
  {
   "cell_type": "code",
   "execution_count": null,
   "id": "19a46ff0",
   "metadata": {},
   "outputs": [],
   "source": [
    "temp_celsius_2 = 25 # Let's say it's 25°C\n",
    "\n",
    "# Apply the formula\n",
    "temp_fahrenheit_2 = (temp_celsius_2 * 9/5) + 32\n",
    "\n",
    "print(f\"{temp_celsius_2}°C is equal to {temp_fahrenheit_2}°F\")"
   ]
  },
  {
   "cell_type": "markdown",
   "id": "13f2af15",
   "metadata": {},
   "source": [
    "**Challenge:** Can you turn these conversions into functions?"
   ]
  },
  {
   "cell_type": "code",
   "execution_count": null,
   "id": "816840bf",
   "metadata": {},
   "outputs": [],
   "source": [
    "def fahrenheit_to_celsius(f_temp):\n",
    "  c_temp = (f_temp - 32) * 5/9\n",
    "  return c_temp\n",
    "\n",
    "def celsius_to_fahrenheit(c_temp):\n",
    "  f_temp = (c_temp * 9/5) + 32\n",
    "  return f_temp\n",
    "\n",
    "# Test our functions\n",
    "boiling_point_f = 212\n",
    "boiling_point_c = fahrenheit_to_celsius(boiling_point_f)\n",
    "print(f\"{boiling_point_f}°F is {boiling_point_c}°C (boiling point of water)\")\n",
    "\n",
    "freezing_point_c = 0\n",
    "freezing_point_f = celsius_to_fahrenheit(freezing_point_c)\n",
    "print(f\"{freezing_point_c}°C is {freezing_point_f}°F (freezing point of water)\")"
   ]
  },
  {
   "cell_type": "markdown",
   "id": "6cf8c96c",
   "metadata": {},
   "source": [
    "### b) Calculate the Area of a Rectangle\n",
    "\n",
    "Remember from math class how to find the area of a rectangle?"
   ]
  },
  {
   "cell_type": "markdown",
   "id": "fa4f2605",
   "metadata": {},
   "source": [
    "**Formula:**\n",
    "Area = Length × Width"
   ]
  },
  {
   "cell_type": "code",
   "execution_count": null,
   "id": "f36c1e9b",
   "metadata": {},
   "outputs": [],
   "source": [
    "length = 10 # units (e.g., cm, inches)\n",
    "width = 5   # units\n",
    "\n",
    "area = length * width\n",
    "\n",
    "print(f\"A rectangle with length {length} and width {width} has an area of {area}.\")"
   ]
  },
  {
   "cell_type": "markdown",
   "id": "32a5714c",
   "metadata": {},
   "source": [
    "**Challenge:** Can you make a function to calculate the area of any rectangle?"
   ]
  },
  {
   "cell_type": "code",
   "execution_count": null,
   "id": "212e1f93",
   "metadata": {},
   "outputs": [],
   "source": [
    "def calculate_rectangle_area(rect_length, rect_width):\n",
    "  calculated_area = rect_length * rect_width\n",
    "  return calculated_area\n",
    "\n",
    "# Test the function\n",
    "area1 = calculate_rectangle_area(7, 3)\n",
    "print(f\"Area of a 7x3 rectangle is: {area1}\")\n",
    "\n",
    "area2 = calculate_rectangle_area(12.5, 4)\n",
    "print(f\"Area of a 12.5x4 rectangle is: {area2}\")"
   ]
  },
  {
   "cell_type": "markdown",
   "id": "44d6799e",
   "metadata": {},
   "source": [
    "## 🎉 Congratulations! 🎉\n",
    "\n",
    "You've taken your first big steps into Jupyter Notebooks and Python programming! You've learned about:\n",
    "*   What Jupyter Notebooks and Google Colab are.\n",
    "*   Variables (storing info).\n",
    "*   Basic data types (`int`, `float`, `str`, `bool`).\n",
    "*   Functions (reusable code recipes).\n",
    "*   Printing things to the screen with `print()` and f-strings.\n",
    "*   Basic math operations.\n",
    "\n",
    "This is just the beginning. There's a whole universe of cool things you can do with coding. Keep practicing, keep experimenting, and most importantly, have fun!\n",
    "\n",
    "**What's next?**\n",
    "*   Try changing the values in the code cells and running them again to see what happens.\n",
    "*   Think of other simple calculations or tasks and try to write Python code for them.\n",
    "*   Explore more Python tutorials online!"
   ]
  }
 ],
 "metadata": {
  "kernelspec": {
   "display_name": "Python 3 (ipykernel)",
   "language": "python",
   "name": "python3"
  },
  "language_info": {
   "codemirror_mode": {
    "name": "ipython",
    "version": 3
   },
   "file_extension": ".py",
   "mimetype": "text/x-python",
   "name": "python",
   "nbconvert_exporter": "python",
   "pygments_lexer": "ipython3",
   "version": "3.10.17"
  }
 },
 "nbformat": 4,
 "nbformat_minor": 5
}
