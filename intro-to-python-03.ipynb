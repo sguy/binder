{
 "cells": [
  {
   "cell_type": "markdown",
   "metadata": {},
   "source": [
    "# Python Adventure: Part 3 - Super Dictionaries, Speedy Sets, and More Fun! 🗂️✨\n",
    "\n",
    "Hey again, awesome coder! You're back for more Python adventures, and that's fantastic! In Part 2, you learned how to make your programs make decisions and repeat tasks. You even built a cool number guessing game!\n",
    "\n",
    "Today, we're adding two more super useful tools to your Python toolkit: **dictionaries** and **sets**. Plus, we'll tackle some new brain-teasing challenges. Let's go!"
   ]
  },
  {
   "cell_type": "markdown",
   "metadata": {},
   "source": [
    "## 1. Quick Flashback! (What We Rocked in Part 2)\n",
    "\n",
    "Let's quickly remember the superpowers you gained last time:"
   ]
  },
  {
   "cell_type": "markdown",
   "metadata": {},
   "source": [
    "### Conditionals (`if`, `elif`, `else`)\n",
    "These let your code make choices. Like a choose-your-own-adventure story for your program!"
   ]
  },
  {
   "cell_type": "code",
   "execution_count": null,
   "metadata": {},
   "outputs": [],
   "source": [
    "grade = 85\n",
    "if grade >= 90:\n",
    "    print(\"A - Awesome!\")\n",
    "elif grade >= 80:\n",
    "    print(\"B - Brilliant!\")\n",
    "else:\n",
    "    print(\"Keep practicing!\")"
   ]
  },
  {
   "cell_type": "markdown",
   "metadata": {},
   "source": [
    "### Loops (`for`, `while`)\n",
    "`for` loops are great for doing something a specific number of times or for each item in a sequence. `while` loops keep going as long as a condition is true (like in our guessing game!)."
   ]
  },
  {
   "cell_type": "code",
   "execution_count": null,
   "metadata": {},
   "outputs": [],
   "source": [
    "# For loop example\n",
    "for i in range(3):\n",
    "    print(f\"Looping: {i+1}\")\n",
    "\n",
    "# Snippet from our guessing game (while loop)\n",
    "# secret_number = 7 # (example)\n",
    "# guess = 0\n",
    "# while guess != secret_number:\n",
    "#     guess = int(input(\"Guess the number: \"))\n",
    "#     # ... (rest of the game logic)\n",
    "print(\"\nWhile loops are great for repeating until a condition changes!\")"
   ]
  },
  {
   "cell_type": "markdown",
   "metadata": {},
   "source": [
    "### Lists (`[]`)\n",
    "Ordered collections of items. You can change them, and they can hold duplicates."
   ]
  },
  {
   "cell_type": "code",
   "execution_count": null,
   "metadata": {},
   "outputs": [],
   "source": [
    "my_fav_foods = [\"pizza\", \"ice cream\", \"tacos\", \"pizza\"]\n",
    "print(f\"My first favorite food is: {my_fav_foods[0]}\")\n",
    "my_fav_foods.append(\"sushi\")\n",
    "print(f\"Updated food list: {my_fav_foods}\")"
   ]
  },
  {
   "cell_type": "markdown",
   "metadata": {},
   "source": [
    "### Functions (Reusable Recipes 📜)\n",
    "Remember how we made our code neater and reusable with functions? Like the `is_list_sorted` challenge from last time!"
   ]
  },
  {
   "cell_type": "code",
   "execution_count": null,
   "metadata": {},
   "outputs": [],
   "source": [
    "def is_list_sorted(my_list):\n",
    "    n = len(my_list)\n",
    "    if n <= 1:\n",
    "        return True\n",
    "    for i in range(n - 1):\n",
    "        if my_list[i] > my_list[i+1]:\n",
    "            return False\n",
    "    return True\n",
    "\n",
    "sorted_example = [1, 2, 5, 8]\n",
    "unsorted_example = [1, 5, 2, 8]\n",
    "print(f\"Is {sorted_example} sorted? {is_list_sorted(sorted_example)}\")\n",
    "print(f\"Is {unsorted_example} sorted? {is_list_sorted(unsorted_example)}\")"
   ]
  },
  {
   "cell_type": "markdown",
   "metadata": {},
   "source": [
    "Fantastic! With that fresh in our minds, let's explore some new Python treasures."
   ]
  },
  {
   "cell_type": "markdown",
   "metadata": {},
   "source": [
    "## 2. New Awesome Tools: Dictionaries and Sets!\n",
    "\n",
    "Get ready to organize and manage your data in even smarter ways!"
   ]
  },
  {
   "cell_type": "markdown",
   "metadata": {},
   "source": [
    "### a) Dictionaries (`dict`) - Your Super Organized Locker! 🗄️\n",
    "\n",
    "Imagine a locker with special compartments, and each compartment has a unique label. You can quickly find what you need by looking for the label. That's a **dictionary** in Python!\n",
    "\n",
    "*   Dictionaries store items as **key-value pairs**.\n",
    "*   Each **key** is unique (like the label on your locker compartment).\n",
    "*   Each **value** is the information stored with that key (what's inside the compartment).\n",
    "*   You create dictionaries using curly braces `{}` with `key: value` items separated by commas.\n",
    "*   Dictionaries are great for when you want to look up information quickly using a specific identifier (the key)."
   ]
  },
  {
   "cell_type": "code",
   "execution_count": null,
   "metadata": {},
   "outputs": [],
   "source": [
    "# Example: A dictionary storing a student's information\n",
    "student_info = {\n",
    "    \"name\": \"Jamie\",\n",
    "    \"age\": 13,\n",
    "    \"grade\": 8,\n",
    "    \"favorite_subject\": \"Science\"\n",
    "}\n",
    "print(student_info)"
   ]
  },
  {
   "cell_type": "markdown",
   "metadata": {},
   "source": [
    "**Working with Dictionaries:**"
   ]
  },
  {
   "cell_type": "code",
   "execution_count": null,
   "metadata": {},
   "outputs": [],
   "source": [
    "# Accessing values using keys\n",
    "print(f\"Student's Name: {student_info['name']}\")\n",
    "print(f\"Student's Age: {student_info.get('age')}\") # .get() is safer, returns None if key not found\n",
    "\n",
    "# Adding a new key-value pair\n",
    "student_info[\"hobby\"] = \"Coding\"\n",
    "print(f\"After adding hobby: {student_info}\")\n",
    "\n",
    "# Changing an existing value\n",
    "student_info[\"grade\"] = 9 # Jamie got promoted!\n",
    "print(f\"After updating grade: {student_info}\")\n",
    "\n",
    "# Removing an item\n",
    "del student_info[\"age\"] # Removes the age entry\n",
    "print(f\"After removing age: {student_info}\")\n",
    "\n",
    "favorite_subject = student_info.pop(\"favorite_subject\") # Removes and returns the value\n",
    "print(f\"Removed favorite subject: {favorite_subject}\")\n",
    "print(f\"Dictionary now: {student_info}\")"
   ]
  },
  {
   "cell_type": "markdown",
   "metadata": {},
   "source": [
    "**Looping Through Dictionaries:**"
   ]
  },
  {
   "cell_type": "code",
   "execution_count": null,
   "metadata": {},
   "outputs": [],
   "source": [
    "print(\"\nLooping through keys:\")\n",
    "for key in student_info.keys():\n",
    "    print(key)\n",
    "\n",
    "print(\"\nLooping through values:\")\n",
    "for value in student_info.values():\n",
    "    print(value)\n",
    "\n",
    "print(\"\nLooping through key-value pairs (items):\")\n",
    "for key, value in student_info.items():\n",
    "    print(f\"{key}: {value}\")"
   ]
  },
  {
   "cell_type": "markdown",
   "metadata": {},
   "source": [
    "### b) Sets (`set`) - The Unique Item Club! 🛡️\n",
    "\n",
    "Imagine you have a bag, and you only want to keep one of each type of toy in it. If you try to add a toy you already have, it doesn't add another one. That's a **set**!\n",
    "\n",
    "*   Sets are **unordered** collections of **unique** items. No duplicates allowed!\n",
    "*   You create sets using curly braces `{}` with items separated by commas, or by using the `set()` function on a list.\n",
    "*   Sets are super fast for checking if an item is present in the collection."
   ]
  },
  {
   "cell_type": "code",
   "execution_count": null,
   "metadata": {},
   "outputs": [],
   "source": [
    "# Creating a set from a list (duplicates are automatically removed)\n",
    "numbers_list = [1, 2, 2, 3, 4, 4, 4, 5]\n",
    "unique_numbers = set(numbers_list)\n",
    "print(f\"Original list: {numbers_list}\")\n",
    "print(f\"Set of unique numbers: {unique_numbers}\")\n",
    "\n",
    "# Creating a set directly\n",
    "fruits = {\"apple\", \"banana\", \"cherry\"}\n",
    "print(f\"Set of fruits: {fruits}\")"
   ]
  },
  {
   "cell_type": "markdown",
   "metadata": {},
   "source": [
    "**Working with Sets:**"
   ]
  },
  {
   "cell_type": "code",
   "execution_count": null,
   "metadata": {},
   "outputs": [],
   "source": [
    "# Adding items\n",
    "fruits.add(\"orange\")\n",
    "print(f\"After adding orange: {fruits}\")\n",
    "fruits.add(\"apple\") # Adding an existing item does nothing\n",
    "print(f\"After trying to add apple again: {fruits}\")\n",
    "\n",
    "# Removing items\n",
    "fruits.remove(\"banana\") # Raises an error if 'banana' is not there\n",
    "print(f\"After removing banana: {fruits}\")\n",
    "fruits.discard(\"grape\") # Doesn't raise an error if 'grape' is not there\n",
    "print(f\"After discarding grape (which wasn't there): {fruits}\")\n",
    "\n",
    "# Checking for membership (this is very fast!)\n",
    "if \"apple\" in fruits:\n",
    "    print(\"Yes, apple is in the set!\")\n",
    "if \"grape\" not in fruits:\n",
    "    print(\"No, grape is not in the set.\")"
   ]
  },
  {
   "cell_type": "markdown",
   "metadata": {},
   "source": [
    "**Basic Set Operations (A Quick Peek):**\n",
    "Sets can do cool math-like things:\n",
    "*   **Union (`|` or `.union()`):** Combines two sets, keeping only unique items.\n",
    "*   **Intersection (`&` or `.intersection()`):** Gets items that are in *both* sets.\n",
    "*   **Difference (`-` or `.difference()`):** Gets items in the first set but *not* in the second."
   ]
  },
  {
   "cell_type": "code",
   "execution_count": null,
   "metadata": {},
   "outputs": [],
   "source": [
    "set_a = {1, 2, 3, 4}\n",
    "set_b = {3, 4, 5, 6}\n",
    "\n",
    "union_set = set_a | set_b\n",
    "print(f\"Union of A and B: {union_set}\")\n",
    "\n",
    "intersection_set = set_a & set_b\n",
    "print(f\"Intersection of A and B: {intersection_set}\")\n",
    "\n",
    "difference_set = set_a - set_b # Items in A but not in B\n",
    "print(f\"Difference A - B: {difference_set}\")"
   ]
  },
  {
   "cell_type": "markdown",
   "metadata": {},
   "source": [
    "### c) List vs. Dictionary vs. Set - When to Use Which Tool? 🛠️\n",
    "\n",
    "Choosing the right data structure is like choosing the right tool for a job. It makes your code easier to write and more efficient!\n",
    "\n",
    "| Feature         | List `[]`                      | Dictionary `{k:v}`                | Set `{}`                         |\n",
    "|-----------------|--------------------------------|-----------------------------------|----------------------------------|\n",
    "| **Order**       | Ordered (keeps items in order) | Unordered (mostly)*               | Unordered                        |\n",
    "| **Duplicates**  | Allowed                        | Keys must be unique               | Not allowed (items are unique)   |\n",
    "| **Access**      | By index (e.g., `my_list[0]`)  | By key (e.g., `my_dict['name']`)  | No direct access (check membership)|\n",
    "| **Mutability**  | Mutable (can change)           | Mutable (can change)              | Mutable (can add/remove items)   |\n",
    "| **Use When...** | Order matters, duplicates OK   | Need to look up by an identifier  | Need uniqueness, fast membership |\n",
    "| **Example**     | Steps in a recipe, game scores | Phone book, student info          | Unique ingredients, website visitors |\n",
    "\n",
    "\* *Note: As of Python 3.7+, dictionaries remember the order of insertion, but their main power is still key-based lookup, not ordered sequence access like lists.*"
   ]
  },
  {
   "cell_type": "markdown",
   "metadata": {},
   "source": [
    "### d) Dictionaries for Records - Storing Info Neatly 📇\n",
    "\n",
    "Dictionaries are perfect for representing real-world objects or records that have multiple pieces of information (fields or attributes).\n",
    "\n",
    "Imagine you want to store contact information for your friends:"
   ]
  },
  {
   "cell_type": "code",
   "execution_count": null,
   "metadata": {},
   "outputs": [],
   "source": [
    "contact1 = {\n",
    "    \"name\": \"Alice Wonderland\",\n",
    "    \"phone\": \"555-0101\",\n",
    "    \"email\": \"alice@example.com\",\n",
    "    \"age\": 14\n",
    "}\n",
    "\n",
    "contact2 = {\n",
    "    \"name\": \"Bob The Builder\",\n",
    "    \"phone\": \"555-0202\",\n",
    "    \"email\": \"bob@example.com\",\n",
    "    \"city\": \"Constructville\"\n",
    "}\n",
    "\n",
    "print(f\"Alice's email: {contact1['email']}\")\n",
    "print(f\"Bob's city: {contact2.get('city', 'N/A')}\") # Using .get() for safety\n",
    "\n",
    "# You can even have a list of these dictionary records!\n",
    "address_book = [contact1, contact2]\n",
    "\n",
    "print(\"\nMy Address Book:\")\n",
    "for contact in address_book:\n",
    "    print(f\"  Name: {contact['name']}, Phone: {contact['phone']}\")"
   ]
  },
  {
   "cell_type": "markdown",
   "metadata": {},
   "source": [
    "## 3. Time for Challenges! Let's Get Our Brains Working! 🧠💡\n",
    "\n",
    "Ready to use your new dictionary and set skills?"
   ]
  },
  {
   "cell_type": "markdown",
   "metadata": {},
   "source": [
    "### Challenge 3a: Letter Frequency Counter 📊\n",
    "\n",
    "**Task:** Write a function that takes a string (like a sentence) and counts how many times each letter appears. Your function should return a dictionary where keys are letters and values are their counts.\n",
    "\n",
    "**Example:**\n",
    "Input: `\"Hello World\"`\n",
    "Output (case-insensitive, ignoring spaces/punctuation for simplicity here, but you can decide!):\n",
    "`{'h': 1, 'e': 1, 'l': 3, 'o': 2, 'w': 1, 'r': 1, 'd': 1}`\n",
    "\n",
    "**Hints:**\n",
    "*   You'll need a dictionary to store the counts.\n",
    "*   Loop through the string character by character.\n",
    "*   For each character, if it's already a key in your dictionary, increment its count. If not, add it to the dictionary with a count of 1.\n",
    "*   You might want to convert the string to lowercase first using `.lower()` to count 'H' and 'h' as the same."
   ]
  },
  {
   "cell_type": "code",
   "execution_count": null,
   "metadata": {},
   "outputs": [],
   "source": [
    "def count_letter_frequency(text):\n",
    "    frequency = {} # Start with an empty dictionary\n",
    "    text = text.lower() # Convert to lowercase\n",
    "    \n",
    "    for char in text:\n",
    "        if char.isalpha(): # Only count letters\n",
    "            if char in frequency: # If letter is already a key\n",
    "                frequency[char] = frequency[char] + 1\n",
    "            else: # If letter is new\n",
    "                frequency[char] = 1\n",
    "    return frequency\n",
    "\n",
    "# Test it out!\n",
    "sentence = \"This is a fun Python challenge!\"\n",
    "letter_counts = count_letter_frequency(sentence)\n",
    "print(f\"Letter counts for '{sentence}':\")\n",
    "print(letter_counts)\n",
    "\n",
    "another_sentence = \"Abracadabra\"\n",
    "print(f\"\nLetter counts for '{another_sentence}':\")\n",
    "print(count_letter_frequency(another_sentence))"
   ]
  },
  {
   "cell_type": "markdown",
   "metadata": {},
   "source": [
    "### Challenge 3b: Palindrome Detector 🔄\n",
    "\n",
    "**Task:** A palindrome is a word, phrase, or sequence that reads the same backward as forward (e.g., \"madam\", \"racecar\", \"level\"). Write a function that takes a string and returns `True` if it's a palindrome and `False` otherwise.\n",
    "\n",
    "**Hints:**\n",
    "*   You might want to ignore spaces and capitalization for a more robust palindrome checker (e.g., \"Race car!\" should be considered a palindrome).\n",
    "*   How can you get the reversed version of a string? (String slicing `[::-1]` is a neat trick!)"
   ]
  },
  {
   "cell_type": "code",
   "execution_count": null,
   "metadata": {},
   "outputs": [],
   "source": [
    "def is_palindrome(text):\n",
    "    # Clean the text: remove spaces and convert to lowercase\n",
    "    processed_text = \"\"\n",
    "    for char in text.lower():\n",
    "        if char.isalnum(): # Keep only letters and numbers\n",
    "            processed_text = processed_text + char\n",
    "            \n",
    "    # Check if the processed text is the same as its reverse\n",
    "    return processed_text == processed_text[::-1]\n",
    "\n",
    "# Test it out!\n",
    "print(f\"Is 'madam' a palindrome? {is_palindrome('madam')}\")\n",
    "print(f\"Is 'racecar' a palindrome? {is_palindrome('racecar')}\")\n",
    "print(f\"Is 'hello' a palindrome? {is_palindrome('hello')}\")\n",
    "print(f\"Is 'A man, a plan, a canal: Panama' a palindrome? {is_palindrome('A man, a plan, a canal: Panama')}\")\n",
    "print(f\"Is 'No lemon, no melon.' a palindrome? {is_palindrome('No lemon, no melon.')}\")"
   ]
  },
  {
   "cell_type": "markdown",
   "metadata": {},
   "source": [
    "### Challenge 3c: Anagram Detector 👯\n",
    "\n",
    "**Task:** Anagrams are words or phrases formed by rearranging the letters of a different word or phrase, typically using all the original letters exactly once (e.g., \"listen\" and \"silent\"; \"triangle\" and \"integral\"). Write a function that takes two strings and returns `True` if they are anagrams of each other, and `False` otherwise.\n",
    "\n",
    "**Hints:**\n",
    "*   Again, consider ignoring spaces and capitalization.\n",
    "*   If two strings are anagrams, what can you say about them if you sort their letters?\n",
    "*   Alternatively, how could you use the letter frequency counting idea from Challenge 3a?"
   ]
  },
  {
   "cell_type": "code",
   "execution_count": null,
   "metadata": {},
   "outputs": [],
   "source": [
    "# Method 1: Sorting\n",
    "def are_anagrams_sorting(text1, text2):\n",
    "    # Clean and sort the characters of both strings\n",
    "    processed_text1 = sorted([char for char in text1.lower() if char.isalpha()])\n",
    "    processed_text2 = sorted([char for char in text2.lower() if char.isalpha()])\n",
    "    \n",
    "    return processed_text1 == processed_text2\n",
    "\n",
    "# Method 2: Using frequency dictionaries (from Challenge 3a)\n",
    "def are_anagrams_frequency(text1, text2):\n",
    "    counts1 = count_letter_frequency(text1) # Reuse our function!\n",
    "    counts2 = count_letter_frequency(text2)\n",
    "    \n",
    "    return counts1 == counts2\n",
    "\n",
    "# Test it out!\n",
    "word1 = \"listen\"\n",
    "word2 = \"silent\"\n",
    "print(f\"Are '{word1}' and '{word2}' anagrams (sorting)? {are_anagrams_sorting(word1, word2)}\")\n",
    "print(f\"Are '{word1}' and '{word2}' anagrams (frequency)? {are_anagrams_frequency(word1, word2)}\")\n",
    "\n",
    "word3 = \"triangle\"\n",
    "word4 = \"integral\"\n",
    "print(f\"Are '{word3}' and '{word4}' anagrams (sorting)? {are_anagrams_sorting(word3, word4)}\")\n",
    "\n",
    "word5 = \"hello\"\n",
    "word6 = \"world\"\n",
    "print(f\"Are '{word5}' and '{word6}' anagrams (sorting)? {are_anagrams_sorting(word5, word6)}\")\n",
    "\n",
    "phrase1 = \"Dormitory\"\n",
    "phrase2 = \"Dirty room##\"\n",
    "print(f\"Are '{phrase1}' and '{phrase2}' anagrams (frequency)? {are_anagrams_frequency(phrase1, phrase2)}\")"
   ]
  },
  {
   "cell_type": "markdown",
   "metadata": {},
   "source": [
    "### Challenge 3d: Find Unique Items (Set Power!) ✨\n",
    "\n",
    "**Task:** You have a list that might contain duplicate items. Write a function that takes this list and returns a new list (or a set) containing only the unique items from the original list.\n",
    "\n",
    "**Example:**\n",
    "Input: `[1, 2, 2, 3, 4, 2, 5, 1, 6]`\n",
    "Output: `[1, 2, 3, 4, 5, 6]` (order might vary if you return a set, which is fine!)"
   ]
  },
  {
   "cell_type": "code",
   "execution_count": null,
   "metadata": {},
   "outputs": [],
   "source": [
    "def get_unique_items(item_list):\n",
    "    # Sets to the rescue for instant uniqueness!\n",
    "    unique_set = set(item_list)\n",
    "    return list(unique_set) # Convert back to a list if needed, or just return the set\n",
    "\n",
    "# Test it!\n",
    "my_numbers = [10, 20, 5, 10, 30, 20, 20, 5, 40]\n",
    "uniques = get_unique_items(my_numbers)\n",
    "print(f\"Original list: {my_numbers}\")\n",
    "print(f\"Unique items: {uniques}\")\n",
    "\n",
    "my_words = [\"apple\", \"banana\", \"apple\", \"cherry\", \"banana\", \"banana\"]\n",
    "unique_words = get_unique_items(my_words)\n",
    "print(f\"Original words: {my_words}\")\n",
    "print(f\"Unique words: {unique_words}\")"
   ]
  },
  {
   "cell_type": "markdown",
   "metadata": {},
   "source": [
    "## 🎉 Amazing Progress! You're a Data Structure Dynamo! 🎉\n",
    "\n",
    "Pat yourself on the back! You've now mastered:\n",
    "*   **Dictionaries (`dict`):** For storing and looking up data with key-value pairs.\n",
    "*   **Sets (`set`):** For keeping track of unique items and doing super-fast checks.\n",
    "*   Knowing when to use lists, dictionaries, or sets to make your code awesome.\n",
    "*   Solving cool problems like counting letters, finding palindromes, and detecting anagrams!\n",
    "\n",
    "The world of Python is vast and exciting. Keep practicing these concepts, try to come up with your own little projects or challenges, and don't be afraid to experiment. The more you code, the more fun it becomes!\n",
    "\n",
    "What will you build next?"
   ]
  }
 ],
 "metadata": {
  "kernelspec": {
   "display_name": "Python 3",
   "language": "python",
   "name": "python3"
  },
  "language_info": {
   "codemirror_mode": {
    "name": "ipython",
    "version": 3
   },
   "file_extension": ".py",
   "mimetype": "text/x-python",
   "name": "python",
   "nbconvert_exporter": "python",
   "pygments_lexer": "ipython3",
   "version": "3.10.0"
  }
 },
 "nbformat": 4,
 "nbformat_minor": 5
}
{
 "cells": [
  {
   "cell_type": "markdown",
   "metadata": {},
   "source": [
    "# Python Adventure: Part 3 - Super Dictionaries, Speedy Sets, and More Fun! 🗂️✨\n",
    "\n",
    "Hey again, awesome coder! You're back for more Python adventures, and that's fantastic! In Part 2, you learned how to make your programs make decisions and repeat tasks. You even built a cool number guessing game!\n",
    "\n",
    "Today, we're adding two more super useful tools to your Python toolkit: **dictionaries** and **sets**. Plus, we'll tackle some new brain-teasing challenges. Let's go!"
   ]
  },
  {
   "cell_type": "markdown",
   "metadata": {},
   "source": [
    "## 1. Quick Flashback! (What We Rocked in Part 2)\n",
    "\n",
    "Let's quickly remember the superpowers you gained last time:"
   ]
  },
  {
   "cell_type": "markdown",
   "metadata": {},
   "source": [
    "### Conditionals (`if`, `elif`, `else`)\n",
    "These let your code make choices. Like a choose-your-own-adventure story for your program!"
   ]
  },
  {
   "cell_type": "code",
   "execution_count": null,
   "metadata": {},
   "outputs": [],
   "source": [
    "grade = 85\n",
    "if grade >= 90:\n",
    "    print(\"A - Awesome!\")\n",
    "elif grade >= 80:\n",
    "    print(\"B - Brilliant!\")\n",
    "else:\n",
    "    print(\"Keep practicing!\")"
   ]
  },
  {
   "cell_type": "markdown",
   "metadata": {},
   "source": [
    "### Loops (`for`, `while`)\n",
    "`for` loops are great for doing something a specific number of times or for each item in a sequence. `while` loops keep going as long as a condition is true (like in our guessing game!)."
   ]
  },
  {
   "cell_type": "code",
   "execution_count": null,
   "metadata": {},
   "outputs": [],
   "source": [
    "# For loop example\n",
    "for i in range(3):\n",
    "    print(f\"Looping: {i+1}\")\n",
    "\n",
    "# Snippet from our guessing game (while loop)\n",
    "# secret_number = 7 # (example)\n",
    "# guess = 0\n",
    "# while guess != secret_number:\n",
    "#     guess = int(input(\"Guess the number: \"))\n",
    "#     # ... (rest of the game logic)\n",
    "print(\"\nWhile loops are great for repeating until a condition changes!\")"
   ]
  },
  {
   "cell_type": "markdown",
   "metadata": {},
   "source": [
    "### Lists (`[]`)\n",
    "Ordered collections of items. You can change them, and they can hold duplicates."
   ]
  },
  {
   "cell_type": "code",
   "execution_count": null,
   "metadata": {},
   "outputs": [],
   "source": [
    "my_fav_foods = [\"pizza\", \"ice cream\", \"tacos\", \"pizza\"]\n",
    "print(f\"My first favorite food is: {my_fav_foods[0]}\")\n",
    "my_fav_foods.append(\"sushi\")\n",
    "print(f\"Updated food list: {my_fav_foods}\")"
   ]
  },
  {
   "cell_type": "markdown",
   "metadata": {},
   "source": [
    "### Functions (Reusable Recipes 📜)\n",
    "Remember how we made our code neater and reusable with functions? Like the `is_list_sorted` challenge from last time!"
   ]
  },
  {
   "cell_type": "code",
   "execution_count": null,
   "metadata": {},
   "outputs": [],
   "source": [
    "def is_list_sorted(my_list):\n",
    "    n = len(my_list)\n",
    "    if n <= 1:\n",
    "        return True\n",
    "    for i in range(n - 1):\n",
    "        if my_list[i] > my_list[i+1]:\n",
    "            return False\n",
    "    return True\n",
    "\n",
    "sorted_example = [1, 2, 5, 8]\n",
    "unsorted_example = [1, 5, 2, 8]\n",
    "print(f\"Is {sorted_example} sorted? {is_list_sorted(sorted_example)}\")\n",
    "print(f\"Is {unsorted_example} sorted? {is_list_sorted(unsorted_example)}\")"
   ]
  },
  {
   "cell_type": "markdown",
   "metadata": {},
   "source": [
    "Fantastic! With that fresh in our minds, let's explore some new Python treasures."
   ]
  },
  {
   "cell_type": "markdown",
   "metadata": {},
   "source": [
    "## 2. New Awesome Tools: Dictionaries and Sets!\n",
    "\n",
    "Get ready to organize and manage your data in even smarter ways!"
   ]
  },
  {
   "cell_type": "markdown",
   "metadata": {},
   "source": [
    "### a) Dictionaries (`dict`) - Your Super Organized Locker! 🗄️\n",
    "\n",
    "Imagine a locker with special compartments, and each compartment has a unique label. You can quickly find what you need by looking for the label. That's a **dictionary** in Python!\n",
    "\n",
    "*   Dictionaries store items as **key-value pairs**.\n",
    "*   Each **key** is unique (like the label on your locker compartment).\n",
    "*   Each **value** is the information stored with that key (what's inside the compartment).\n",
    "*   You create dictionaries using curly braces `{}` with `key: value` items separated by commas.\n",
    "*   Dictionaries are great for when you want to look up information quickly using a specific identifier (the key)."
   ]
  },
  {
   "cell_type": "code",
   "execution_count": null,
   "metadata": {},
   "outputs": [],
   "source": [
    "# Example: A dictionary storing a student's information\n",
    "student_info = {\n",
    "    \"name\": \"Jamie\",\n",
    "    \"age\": 13,\n",
    "    \"grade\": 8,\n",
    "    \"favorite_subject\": \"Science\"\n",
    "}\n",
    "print(student_info)"
   ]
  },
  {
   "cell_type": "markdown",
   "metadata": {},
   "source": [
    "**Working with Dictionaries:**"
   ]
  },
  {
   "cell_type": "code",
   "execution_count": null,
   "metadata": {},
   "outputs": [],
   "source": [
    "# Accessing values using keys\n",
    "print(f\"Student's Name: {student_info['name']}\")\n",
    "print(f\"Student's Age: {student_info.get('age')}\") # .get() is safer, returns None if key not found\n",
    "\n",
    "# Adding a new key-value pair\n",
    "student_info[\"hobby\"] = \"Coding\"\n",
    "print(f\"After adding hobby: {student_info}\")\n",
    "\n",
    "# Changing an existing value\n",
    "student_info[\"grade\"] = 9 # Jamie got promoted!\n",
    "print(f\"After updating grade: {student_info}\")\n",
    "\n",
    "# Removing an item\n",
    "del student_info[\"age\"] # Removes the age entry\n",
    "print(f\"After removing age: {student_info}\")\n",
    "\n",
    "favorite_subject = student_info.pop(\"favorite_subject\") # Removes and returns the value\n",
    "print(f\"Removed favorite subject: {favorite_subject}\")\n",
    "print(f\"Dictionary now: {student_info}\")"
   ]
  },
  {
   "cell_type": "markdown",
   "metadata": {},
   "source": [
    "**Looping Through Dictionaries:**"
   ]
  },
  {
   "cell_type": "code",
   "execution_count": null,
   "metadata": {},
   "outputs": [],
   "source": [
    "print(\"\nLooping through keys:\")\n",
    "for key in student_info.keys():\n",
    "    print(key)\n",
    "\n",
    "print(\"\nLooping through values:\")\n",
    "for value in student_info.values():\n",
    "    print(value)\n",
    "\n",
    "print(\"\nLooping through key-value pairs (items):\")\n",
    "for key, value in student_info.items():\n",
    "    print(f\"{key}: {value}\")"
   ]
  },
  {
   "cell_type": "markdown",
   "metadata": {},
   "source": [
    "### b) Sets (`set`) - The Unique Item Club! 🛡️\n",
    "\n",
    "Imagine you have a bag, and you only want to keep one of each type of toy in it. If you try to add a toy you already have, it doesn't add another one. That's a **set**!\n",
    "\n",
    "*   Sets are **unordered** collections of **unique** items. No duplicates allowed!\n",
    "*   You create sets using curly braces `{}` with items separated by commas, or by using the `set()` function on a list.\n",
    "*   Sets are super fast for checking if an item is present in the collection."
   ]
  },
  {
   "cell_type": "code",
   "execution_count": null,
   "metadata": {},
   "outputs": [],
   "source": [
    "# Creating a set from a list (duplicates are automatically removed)\n",
    "numbers_list = [1, 2, 2, 3, 4, 4, 4, 5]\n",
    "unique_numbers = set(numbers_list)\n",
    "print(f\"Original list: {numbers_list}\")\n",
    "print(f\"Set of unique numbers: {unique_numbers}\")\n",
    "\n",
    "# Creating a set directly\n",
    "fruits = {\"apple\", \"banana\", \"cherry\"}\n",
    "print(f\"Set of fruits: {fruits}\")"
   ]
  },
  {
   "cell_type": "markdown",
   "metadata": {},
   "source": [
    "**Working with Sets:**"
   ]
  },
  {
   "cell_type": "code",
   "execution_count": null,
   "metadata": {},
   "outputs": [],
   "source": [
    "# Adding items\n",
    "fruits.add(\"orange\")\n",
    "print(f\"After adding orange: {fruits}\")\n",
    "fruits.add(\"apple\") # Adding an existing item does nothing\n",
    "print(f\"After trying to add apple again: {fruits}\")\n",
    "\n",
    "# Removing items\n",
    "fruits.remove(\"banana\") # Raises an error if 'banana' is not there\n",
    "print(f\"After removing banana: {fruits}\")\n",
    "fruits.discard(\"grape\") # Doesn't raise an error if 'grape' is not there\n",
    "print(f\"After discarding grape (which wasn't there): {fruits}\")\n",
    "\n",
    "# Checking for membership (this is very fast!)\n",
    "if \"apple\" in fruits:\n",
    "    print(\"Yes, apple is in the set!\")\n",
    "if \"grape\" not in fruits:\n",
    "    print(\"No, grape is not in the set.\")"
   ]
  },
  {
   "cell_type": "markdown",
   "metadata": {},
   "source": [
    "**Basic Set Operations (A Quick Peek):**\n",
    "Sets can do cool math-like things:\n",
    "*   **Union (`|` or `.union()`):** Combines two sets, keeping only unique items.\n",
    "*   **Intersection (`&` or `.intersection()`):** Gets items that are in *both* sets.\n",
    "*   **Difference (`-` or `.difference()`):** Gets items in the first set but *not* in the second."
   ]
  },
  {
   "cell_type": "code",
   "execution_count": null,
   "metadata": {},
   "outputs": [],
   "source": [
    "set_a = {1, 2, 3, 4}\n",
    "set_b = {3, 4, 5, 6}\n",
    "\n",
    "union_set = set_a | set_b\n",
    "print(f\"Union of A and B: {union_set}\")\n",
    "\n",
    "intersection_set = set_a & set_b\n",
    "print(f\"Intersection of A and B: {intersection_set}\")\n",
    "\n",
    "difference_set = set_a - set_b # Items in A but not in B\n",
    "print(f\"Difference A - B: {difference_set}\")"
   ]
  },
  {
   "cell_type": "markdown",
   "metadata": {},
   "source": [
    "### c) List vs. Dictionary vs. Set - When to Use Which Tool? 🛠️\n",
    "\n",
    "Choosing the right data structure is like choosing the right tool for a job. It makes your code easier to write and more efficient!\n",
    "\n",
    "| Feature         | List `[]`                      | Dictionary `{k:v}`                | Set `{}`                         |\n",
    "|-----------------|--------------------------------|-----------------------------------|----------------------------------|\n",
    "| **Order**       | Ordered (keeps items in order) | Unordered (mostly)*               | Unordered                        |\n",
    "| **Duplicates**  | Allowed                        | Keys must be unique               | Not allowed (items are unique)   |\n",
    "| **Access**      | By index (e.g., `my_list[0]`)  | By key (e.g., `my_dict['name']`)  | No direct access (check membership)|\n",
    "| **Mutability**  | Mutable (can change)           | Mutable (can change)              | Mutable (can add/remove items)   |\n",
    "| **Use When...** | Order matters, duplicates OK   | Need to look up by an identifier  | Need uniqueness, fast membership |\n",
    "| **Example**     | Steps in a recipe, game scores | Phone book, student info          | Unique ingredients, website visitors |\n",
    "\n",
    "\* *Note: As of Python 3.7+, dictionaries remember the order of insertion, but their main power is still key-based lookup, not ordered sequence access like lists.*"
   ]
  },
  {
   "cell_type": "markdown",
   "metadata": {},
   "source": [
    "### d) Dictionaries for Records - Storing Info Neatly 📇\n",
    "\n",
    "Dictionaries are perfect for representing real-world objects or records that have multiple pieces of information (fields or attributes).\n",
    "\n",
    "Imagine you want to store contact information for your friends:"
   ]
  },
  {
   "cell_type": "code",
   "execution_count": null,
   "metadata": {},
   "outputs": [],
   "source": [
    "contact1 = {\n",
    "    \"name\": \"Alice Wonderland\",\n",
    "    \"phone\": \"555-0101\",\n",
    "    \"email\": \"alice@example.com\",\n",
    "    \"age\": 14\n",
    "}\n",
    "\n",
    "contact2 = {\n",
    "    \"name\": \"Bob The Builder\",\n",
    "    \"phone\": \"555-0202\",\n",
    "    \"email\": \"bob@example.com\",\n",
    "    \"city\": \"Constructville\"\n",
    "}\n",
    "\n",
    "print(f\"Alice's email: {contact1['email']}\")\n",
    "print(f\"Bob's city: {contact2.get('city', 'N/A')}\") # Using .get() for safety\n",
    "\n",
    "# You can even have a list of these dictionary records!\n",
    "address_book = [contact1, contact2]\n",
    "\n",
    "print(\"\nMy Address Book:\")\n",
    "for contact in address_book:\n",
    "    print(f\"  Name: {contact['name']}, Phone: {contact['phone']}\")"
   ]
  },
  {
   "cell_type": "markdown",
   "metadata": {},
   "source": [
    "## 3. Time for Challenges! Let's Get Our Brains Working! 🧠💡\n",
    "\n",
    "Ready to use your new dictionary and set skills?"
   ]
  },
  {
   "cell_type": "markdown",
   "metadata": {},
   "source": [
    "### Challenge 3a: Letter Frequency Counter 📊\n",
    "\n",
    "**Task:** Write a function that takes a string (like a sentence) and counts how many times each letter appears. Your function should return a dictionary where keys are letters and values are their counts.\n",
    "\n",
    "**Example:**\n",
    "Input: `\"Hello World\"`\n",
    "Output (case-insensitive, ignoring spaces/punctuation for simplicity here, but you can decide!):\n",
    "`{'h': 1, 'e': 1, 'l': 3, 'o': 2, 'w': 1, 'r': 1, 'd': 1}`\n",
    "\n",
    "**Hints:**\n",
    "*   You'll need a dictionary to store the counts.\n",
    "*   Loop through the string character by character.\n",
    "*   For each character, if it's already a key in your dictionary, increment its count. If not, add it to the dictionary with a count of 1.\n",
    "*   You might want to convert the string to lowercase first using `.lower()` to count 'H' and 'h' as the same."
   ]
  },
  {
   "cell_type": "code",
   "execution_count": null,
   "metadata": {},
   "outputs": [],
   "source": [
    "def count_letter_frequency(text):\n",
    "    frequency = {} # Start with an empty dictionary\n",
    "    text = text.lower() # Convert to lowercase\n",
    "    \n",
    "    for char in text:\n",
    "        if char.isalpha(): # Only count letters\n",
    "            if char in frequency: # If letter is already a key\n",
    "                frequency[char] = frequency[char] + 1\n",
    "            else: # If letter is new\n",
    "                frequency[char] = 1\n",
    "    return frequency\n",
    "\n",
    "# Test it out!\n",
    "sentence = \"This is a fun Python challenge!\"\n",
    "letter_counts = count_letter_frequency(sentence)\n",
    "print(f\"Letter counts for '{sentence}':\")\n",
    "print(letter_counts)\n",
    "\n",
    "another_sentence = \"Abracadabra\"\n",
    "print(f\"\nLetter counts for '{another_sentence}':\")\n",
    "print(count_letter_frequency(another_sentence))"
   ]
  },
  {
   "cell_type": "markdown",
   "metadata": {},
   "source": [
    "### Challenge 3b: Palindrome Detector 🔄\n",
    "\n",
    "**Task:** A palindrome is a word, phrase, or sequence that reads the same backward as forward (e.g., \"madam\", \"racecar\", \"level\"). Write a function that takes a string and returns `True` if it's a palindrome and `False` otherwise.\n",
    "\n",
    "**Hints:**\n",
    "*   You might want to ignore spaces and capitalization for a more robust palindrome checker (e.g., \"Race car!\" should be considered a palindrome).\n",
    "*   How can you get the reversed version of a string? (String slicing `[::-1]` is a neat trick!)"
   ]
  },
  {
   "cell_type": "code",
   "execution_count": null,
   "metadata": {},
   "outputs": [],
   "source": [
    "def is_palindrome(text):\n",
    "    # Clean the text: remove spaces and convert to lowercase\n",
    "    processed_text = \"\"\n",
    "    for char in text.lower():\n",
    "        if char.isalnum(): # Keep only letters and numbers\n",
    "            processed_text = processed_text + char\n",
    "            \n",
    "    # Check if the processed text is the same as its reverse\n",
    "    return processed_text == processed_text[::-1]\n",
    "\n",
    "# Test it out!\n",
    "print(f\"Is 'madam' a palindrome? {is_palindrome('madam')}\")\n",
    "print(f\"Is 'racecar' a palindrome? {is_palindrome('racecar')}\")\n",
    "print(f\"Is 'hello' a palindrome? {is_palindrome('hello')}\")\n",
    "print(f\"Is 'A man, a plan, a canal: Panama' a palindrome? {is_palindrome('A man, a plan, a canal: Panama')}\")\n",
    "print(f\"Is 'No lemon, no melon.' a palindrome? {is_palindrome('No lemon, no melon.')}\")"
   ]
  },
  {
   "cell_type": "markdown",
   "metadata": {},
   "source": [
    "### Challenge 3c: Anagram Detector 👯\n",
    "\n",
    "**Task:** Anagrams are words or phrases formed by rearranging the letters of a different word or phrase, typically using all the original letters exactly once (e.g., \"listen\" and \"silent\"; \"triangle\" and \"integral\"). Write a function that takes two strings and returns `True` if they are anagrams of each other, and `False` otherwise.\n",
    "\n",
    "**Hints:**\n",
    "*   Again, consider ignoring spaces and capitalization.\n",
    "*   If two strings are anagrams, what can you say about them if you sort their letters?\n",
    "*   Alternatively, how could you use the letter frequency counting idea from Challenge 3a?"
   ]
  },
  {
   "cell_type": "code",
   "execution_count": null,
   "metadata": {},
   "outputs": [],
   "source": [
    "# Method 1: Sorting\n",
    "def are_anagrams_sorting(text1, text2):\n",
    "    # Clean and sort the characters of both strings\n",
    "    processed_text1 = sorted([char for char in text1.lower() if char.isalpha()])\n",
    "    processed_text2 = sorted([char for char in text2.lower() if char.isalpha()])\n",
    "    \n",
    "    return processed_text1 == processed_text2\n",
    "\n",
    "# Method 2: Using frequency dictionaries (from Challenge 3a)\n",
    "def are_anagrams_frequency(text1, text2):\n",
    "    counts1 = count_letter_frequency(text1) # Reuse our function!\n",
    "    counts2 = count_letter_frequency(text2)\n",
    "    \n",
    "    return counts1 == counts2\n",
    "\n",
    "# Test it out!\n",
    "word1 = \"listen\"\n",
    "word2 = \"silent\"\n",
    "print(f\"Are '{word1}' and '{word2}' anagrams (sorting)? {are_anagrams_sorting(word1, word2)}\")\n",
    "print(f\"Are '{word1}' and '{word2}' anagrams (frequency)? {are_anagrams_frequency(word1, word2)}\")\n",
    "\n",
    "word3 = \"triangle\"\n",
    "word4 = \"integral\"\n",
    "print(f\"Are '{word3}' and '{word4}' anagrams (sorting)? {are_anagrams_sorting(word3, word4)}\")\n",
    "\n",
    "word5 = \"hello\"\n",
    "word6 = \"world\"\n",
    "print(f\"Are '{word5}' and '{word6}' anagrams (sorting)? {are_anagrams_sorting(word5, word6)}\")\n",
    "\n",
    "phrase1 = \"Dormitory\"\n",
    "phrase2 = \"Dirty room##\"\n",
    "print(f\"Are '{phrase1}' and '{phrase2}' anagrams (frequency)? {are_anagrams_frequency(phrase1, phrase2)}\")"
   ]
  },
  {
   "cell_type": "markdown",
   "metadata": {},
   "source": [
    "### Challenge 3d: Find Unique Items (Set Power!) ✨\n",
    "\n",
    "**Task:** You have a list that might contain duplicate items. Write a function that takes this list and returns a new list (or a set) containing only the unique items from the original list.\n",
    "\n",
    "**Example:**\n",
    "Input: `[1, 2, 2, 3, 4, 2, 5, 1, 6]`\n",
    "Output: `[1, 2, 3, 4, 5, 6]` (order might vary if you return a set, which is fine!)"
   ]
  },
  {
   "cell_type": "code",
   "execution_count": null,
   "metadata": {},
   "outputs": [],
   "source": [
    "def get_unique_items(item_list):\n",
    "    # Sets to the rescue for instant uniqueness!\n",
    "    unique_set = set(item_list)\n",
    "    return list(unique_set) # Convert back to a list if needed, or just return the set\n",
    "\n",
    "# Test it!\n",
    "my_numbers = [10, 20, 5, 10, 30, 20, 20, 5, 40]\n",
    "uniques = get_unique_items(my_numbers)\n",
    "print(f\"Original list: {my_numbers}\")\n",
    "print(f\"Unique items: {uniques}\")\n",
    "\n",
    "my_words = [\"apple\", \"banana\", \"apple\", \"cherry\", \"banana\", \"banana\"]\n",
    "unique_words = get_unique_items(my_words)\n",
    "print(f\"Original words: {my_words}\")\n",
    "print(f\"Unique words: {unique_words}\")"
   ]
  },
  {
   "cell_type": "markdown",
   "metadata": {},
   "source": [
    "## 🎉 Amazing Progress! You're a Data Structure Dynamo! 🎉\n",
    "\n",
    "Pat yourself on the back! You've now mastered:\n",
    "*   **Dictionaries (`dict`):** For storing and looking up data with key-value pairs.\n",
    "*   **Sets (`set`):** For keeping track of unique items and doing super-fast checks.\n",
    "*   Knowing when to use lists, dictionaries, or sets to make your code awesome.\n",
    "*   Solving cool problems like counting letters, finding palindromes, and detecting anagrams!\n",
    "\n",
    "The world of Python is vast and exciting. Keep practicing these concepts, try to come up with your own little projects or challenges, and don't be afraid to experiment. The more you code, the more fun it becomes!\n",
    "\n",
    "What will you build next?"
   ]
  }
 ],
 "metadata": {
  "kernelspec": {
   "display_name": "Python 3",
   "language": "python",
   "name": "python3"
  },
  "language_info": {
   "codemirror_mode": {
    "name": "ipython",
    "version": 3
   },
   "file_extension": ".py",
   "mimetype": "text/x-python",
   "name": "python",
   "nbconvert_exporter": "python",
   "pygments_lexer": "ipython3",
   "version": "3.10.0"
  }
 },
 "nbformat": 4,
 "nbformat_minor": 5
}
